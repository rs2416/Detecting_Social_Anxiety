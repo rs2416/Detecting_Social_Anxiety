{
 "cells": [
  {
   "cell_type": "markdown",
   "metadata": {},
   "source": [
    "# Social Anxiety Detection - Machine Learning Notebook\n",
    "\n",
    "***\n",
    "\n",
    "## Contents\n",
    "\n",
    "__1. Introduction <br/>__\n",
    "1.1. Overview <br/>\n",
    "1.2. Description of the ML Experiments <br/>\n",
    "__2. Import Packages <br/>__\n",
    "__3. Import & Combine Data <br/>__\n",
    "3.1. Import & Combine Experiment (1) Data <br/>\n",
    "3.2. Import & Combine Experiment (2) Data <br/>\n",
    "3.3. Import & Combine Experiment (3) Data <br/>\n",
    "__4. Data Visualisation <br/>__\n",
    "__5. General Train and Test <br/>__\n",
    "5.1. Experiment (1) <br/>\n",
    "5.2. Experiment (2) <br/>\n",
    "5.3. Experiment (3) <br/>\n",
    "__6. Further Evaluation Using Cross Validation <br/>__\n",
    "6.1. Experiment (1) <br/>\n",
    "6.2. Experiment (2) <br/>\n",
    "6.3. Experiment (3) <br/>\n",
    "__7. Direct Comparison Between Models <br/>__\n",
    "7.1. Experiment (1) <br/>\n",
    "7.2. Experiment (2) <br/>\n",
    "7.3. Experiment (3) <br/>\n",
    "__8. Exploring Feature Combinations <br/>__\n",
    "8.1. Experiment (1) <br/>\n",
    "8.2. Experiment (2) <br/>\n",
    "8.4. Experiment (3) <br/>\n",
    "\n",
    "***\n",
    "\n",
    "## 1. Introduction\n",
    "\n",
    "### 1.1. Overview\n",
    "\n",
    "This notebook consists of three Machine Learning (ML) experiments using physiological data to detect social anxiety in young people. The physiological data that was observed includes Heart Rate (HR) data, Skin Temperature (ST) data and Electrodermal Activity (EDA) data. Each participant's data has been preprocessed using a data preprocessing notebook called _'Data_Preprocessing_Notebook.ipynb'_ , the preprocessing notebook also describes the nature of the data in further depth.\n",
    "\n",
    "The [Scikit-Learn](https://scikit-learn.org/stable/) module was also used since it is [one of the most comprehensive open-source ML Python modules](https://journals.sagepub.com/doi/10.3102/1076998619832248) that contains a wide range of functionalities for supervised learning.\n",
    "\n",
    "The following classification algorithms are explored in this notebook, Support Vector Machines (SVM), Random Forest, Decision Tree and K-Nearest Neighbours (KNN). You can find out more information about them [here](https://scikit-learn.org/stable/supervised_learning.html#supervised-learning).\n",
    "\n",
    "\n",
    "### 1.2. Description of the ML Experiments\n",
    "\n",
    "__Experiment (1)__ investigates whether models can be trained to detect baseline and socially anxious states. The data is either labelled '0' during the baseline period and '1' during the anxiety period (during anticipation and reactive anxiety).\n",
    "\n",
    "__Experiment (2)__ investigates whether models can be trained to differentiate between baseline, anticipation anxiety and reactive anxiety states  The data is labelled in three ways, '0' during the baseline period, '1' during the anticipation anxiety period and '2' during the reactive anxiety period.\n",
    "\n",
    "__Experiment (3)__ investigates whether models can be trained to differentiate between social anxiety experienced by individuals with differing social anxiety severity. The data was segregated based on scores reported using the self-reported version of Liebowitz Social Anxiety Scale (LSAS-SR), the data was is either labelled as '0' for individuals in anxiety category 1 (LSAS-SR:50-64) or labelled as '1' for individuals in anxiety category 2 (LSAS-SR:65-80).\n",
    "\n",
    "***\n",
    "\n",
    "## 2. Import Packages"
   ]
  },
  {
   "cell_type": "code",
   "execution_count": 13,
   "metadata": {},
   "outputs": [],
   "source": [
    "import numpy as np\n",
    "import pandas as pd\n",
    "import matplotlib.pyplot as plt\n",
    "import seaborn as sns\n",
    "import statistics \n",
    "from decimal import Decimal\n",
    "import time\n",
    "%matplotlib inline\n",
    "\n",
    "#Scikit-Learn packages for ML\n",
    "from sklearn import svm \n",
    "from sklearn.ensemble import RandomForestClassifier\n",
    "from sklearn.neighbors import KNeighborsClassifier\n",
    "from sklearn.tree import DecisionTreeClassifier \n",
    "from sklearn import metrics\n",
    "from sklearn.multiclass import OneVsRestClassifier\n",
    "from sklearn import preprocessing"
   ]
  },
  {
   "cell_type": "markdown",
   "metadata": {},
   "source": [
    "## 3.Import & Combine Data \n",
    "\n",
    "### 3.1. Import & Combine Experiment (1) Data\n",
    "\n",
    "The data from the partcipants are combined into a master dataset, one for each of the three experiments. Below the data for __experiment (1)__ is combined."
   ]
  },
  {
   "cell_type": "code",
   "execution_count": 11,
   "metadata": {},
   "outputs": [
    {
     "name": "stdout",
     "output_type": "stream",
     "text": [
      "Some descriptive statistics extracted from the combined experiment (1) dataset...\n"
     ]
    },
    {
     "data": {
      "text/html": [
       "<div>\n",
       "<style scoped>\n",
       "    .dataframe tbody tr th:only-of-type {\n",
       "        vertical-align: middle;\n",
       "    }\n",
       "\n",
       "    .dataframe tbody tr th {\n",
       "        vertical-align: top;\n",
       "    }\n",
       "\n",
       "    .dataframe thead th {\n",
       "        text-align: right;\n",
       "    }\n",
       "</style>\n",
       "<table border=\"1\" class=\"dataframe\">\n",
       "  <thead>\n",
       "    <tr style=\"text-align: right;\">\n",
       "      <th></th>\n",
       "      <th>HR</th>\n",
       "      <th>ST</th>\n",
       "      <th>EDA</th>\n",
       "      <th>Labels</th>\n",
       "    </tr>\n",
       "  </thead>\n",
       "  <tbody>\n",
       "    <tr>\n",
       "      <td>count</td>\n",
       "      <td>61012.000000</td>\n",
       "      <td>61012.000000</td>\n",
       "      <td>61012.000000</td>\n",
       "      <td>61012.000000</td>\n",
       "    </tr>\n",
       "    <tr>\n",
       "      <td>mean</td>\n",
       "      <td>87.726116</td>\n",
       "      <td>31.358579</td>\n",
       "      <td>0.358737</td>\n",
       "      <td>0.613453</td>\n",
       "    </tr>\n",
       "    <tr>\n",
       "      <td>std</td>\n",
       "      <td>14.538783</td>\n",
       "      <td>1.611184</td>\n",
       "      <td>0.270503</td>\n",
       "      <td>0.486962</td>\n",
       "    </tr>\n",
       "    <tr>\n",
       "      <td>min</td>\n",
       "      <td>52.043333</td>\n",
       "      <td>28.858000</td>\n",
       "      <td>0.000229</td>\n",
       "      <td>0.000000</td>\n",
       "    </tr>\n",
       "    <tr>\n",
       "      <td>25%</td>\n",
       "      <td>79.732222</td>\n",
       "      <td>29.957667</td>\n",
       "      <td>0.118689</td>\n",
       "      <td>0.000000</td>\n",
       "    </tr>\n",
       "    <tr>\n",
       "      <td>50%</td>\n",
       "      <td>88.650000</td>\n",
       "      <td>31.484667</td>\n",
       "      <td>0.322676</td>\n",
       "      <td>1.000000</td>\n",
       "    </tr>\n",
       "    <tr>\n",
       "      <td>75%</td>\n",
       "      <td>94.920278</td>\n",
       "      <td>32.891333</td>\n",
       "      <td>0.566445</td>\n",
       "      <td>1.000000</td>\n",
       "    </tr>\n",
       "    <tr>\n",
       "      <td>max</td>\n",
       "      <td>147.584444</td>\n",
       "      <td>34.566000</td>\n",
       "      <td>1.000244</td>\n",
       "      <td>1.000000</td>\n",
       "    </tr>\n",
       "  </tbody>\n",
       "</table>\n",
       "</div>"
      ],
      "text/plain": [
       "                 HR            ST           EDA        Labels\n",
       "count  61012.000000  61012.000000  61012.000000  61012.000000\n",
       "mean      87.726116     31.358579      0.358737      0.613453\n",
       "std       14.538783      1.611184      0.270503      0.486962\n",
       "min       52.043333     28.858000      0.000229      0.000000\n",
       "25%       79.732222     29.957667      0.118689      0.000000\n",
       "50%       88.650000     31.484667      0.322676      1.000000\n",
       "75%       94.920278     32.891333      0.566445      1.000000\n",
       "max      147.584444     34.566000      1.000244      1.000000"
      ]
     },
     "metadata": {},
     "output_type": "display_data"
    }
   ],
   "source": [
    "df1 = pd.read_csv(\"../data_preprocessing/1/experiment_1.csv\")\n",
    "df2 = pd.read_csv(\"../data_preprocessing/2/experiment_1.csv\")\n",
    "df3 = pd.read_csv(\"../data_preprocessing/3/experiment_1.csv\")\n",
    "df4 = pd.read_csv(\"../data_preprocessing/4/experiment_1.csv\")\n",
    "df5 = pd.read_csv(\"../data_preprocessing/5/experiment_1.csv\")\n",
    "df6 = pd.read_csv(\"../data_preprocessing/6/experiment_1.csv\")\n",
    "df7 = pd.read_csv(\"../data_preprocessing/7/experiment_1.csv\")\n",
    "df8 = pd.read_csv(\"../data_preprocessing/8/experiment_1.csv\")\n",
    "df9 = pd.read_csv(\"../data_preprocessing/9/experiment_1.csv\")\n",
    "df10 = pd.read_csv(\"../data_preprocessing/10/experiment_1.csv\")\n",
    "df11 = pd.read_csv(\"../data_preprocessing/11/experiment_1.csv\")\n",
    "df12 = pd.read_csv(\"../data_preprocessing/12/experiment_1.csv\")\n",
    "\n",
    "\n",
    "masterdf1 = pd.concat([df1,df2,df3,df4,df5,df6,df7,df8,df9,df10,df11,df12], axis=0, join='outer', ignore_index=False)\n",
    "masterdf1 = masterdf1.drop('Unnamed: 0', axis =1)\n",
    "masterdf1 = masterdf1.reset_index(drop=True)\n",
    "\n",
    "masterdf1.to_csv(\"master_experiment_1.csv\")\n",
    "\n",
    "experiment1 = masterdf1.copy()\n",
    "experiment1.columns = ['HR','ST', 'EDA', 'Labels']\n",
    "print('Some descriptive statistics extracted from the combined experiment (1) dataset...')\n",
    "display(experiment1.describe())"
   ]
  },
  {
   "cell_type": "markdown",
   "metadata": {},
   "source": [
    "### 3.2. Import & Combine Experiment (2) Data\n",
    "\n",
    "Below the data for __experiment (2)__ is combined. "
   ]
  },
  {
   "cell_type": "code",
   "execution_count": 9,
   "metadata": {},
   "outputs": [
    {
     "name": "stdout",
     "output_type": "stream",
     "text": [
      "Some descriptive statistics extracted from the combined experiment (2) dataset...\n"
     ]
    },
    {
     "data": {
      "text/html": [
       "<div>\n",
       "<style scoped>\n",
       "    .dataframe tbody tr th:only-of-type {\n",
       "        vertical-align: middle;\n",
       "    }\n",
       "\n",
       "    .dataframe tbody tr th {\n",
       "        vertical-align: top;\n",
       "    }\n",
       "\n",
       "    .dataframe thead th {\n",
       "        text-align: right;\n",
       "    }\n",
       "</style>\n",
       "<table border=\"1\" class=\"dataframe\">\n",
       "  <thead>\n",
       "    <tr style=\"text-align: right;\">\n",
       "      <th></th>\n",
       "      <th>HR</th>\n",
       "      <th>ST</th>\n",
       "      <th>EDA</th>\n",
       "      <th>Labels</th>\n",
       "    </tr>\n",
       "  </thead>\n",
       "  <tbody>\n",
       "    <tr>\n",
       "      <td>count</td>\n",
       "      <td>60710.000000</td>\n",
       "      <td>60710.000000</td>\n",
       "      <td>60710.000000</td>\n",
       "      <td>60710.000000</td>\n",
       "    </tr>\n",
       "    <tr>\n",
       "      <td>mean</td>\n",
       "      <td>87.731436</td>\n",
       "      <td>31.359380</td>\n",
       "      <td>0.359097</td>\n",
       "      <td>0.833932</td>\n",
       "    </tr>\n",
       "    <tr>\n",
       "      <td>std</td>\n",
       "      <td>14.561927</td>\n",
       "      <td>1.613748</td>\n",
       "      <td>0.270567</td>\n",
       "      <td>0.757201</td>\n",
       "    </tr>\n",
       "    <tr>\n",
       "      <td>min</td>\n",
       "      <td>52.043333</td>\n",
       "      <td>28.858000</td>\n",
       "      <td>0.000229</td>\n",
       "      <td>0.000000</td>\n",
       "    </tr>\n",
       "    <tr>\n",
       "      <td>25%</td>\n",
       "      <td>79.673333</td>\n",
       "      <td>29.954000</td>\n",
       "      <td>0.119272</td>\n",
       "      <td>0.000000</td>\n",
       "    </tr>\n",
       "    <tr>\n",
       "      <td>50%</td>\n",
       "      <td>88.653333</td>\n",
       "      <td>31.488667</td>\n",
       "      <td>0.322814</td>\n",
       "      <td>1.000000</td>\n",
       "    </tr>\n",
       "    <tr>\n",
       "      <td>75%</td>\n",
       "      <td>94.959722</td>\n",
       "      <td>32.896667</td>\n",
       "      <td>0.566772</td>\n",
       "      <td>1.000000</td>\n",
       "    </tr>\n",
       "    <tr>\n",
       "      <td>max</td>\n",
       "      <td>147.584444</td>\n",
       "      <td>34.566000</td>\n",
       "      <td>1.000244</td>\n",
       "      <td>2.000000</td>\n",
       "    </tr>\n",
       "  </tbody>\n",
       "</table>\n",
       "</div>"
      ],
      "text/plain": [
       "                 HR            ST           EDA        Labels\n",
       "count  60710.000000  60710.000000  60710.000000  60710.000000\n",
       "mean      87.731436     31.359380      0.359097      0.833932\n",
       "std       14.561927      1.613748      0.270567      0.757201\n",
       "min       52.043333     28.858000      0.000229      0.000000\n",
       "25%       79.673333     29.954000      0.119272      0.000000\n",
       "50%       88.653333     31.488667      0.322814      1.000000\n",
       "75%       94.959722     32.896667      0.566772      1.000000\n",
       "max      147.584444     34.566000      1.000244      2.000000"
      ]
     },
     "metadata": {},
     "output_type": "display_data"
    }
   ],
   "source": [
    "df1 = pd.read_csv(\"../data_preprocessing/1/experiment_2.csv\")\n",
    "df2 = pd.read_csv(\"../data_preprocessing/2/experiment_2.csv\")\n",
    "df3 = pd.read_csv(\"../data_preprocessing/3/experiment_2.csv\")\n",
    "df4 = pd.read_csv(\"../data_preprocessing/4/experiment_2.csv\")\n",
    "df5 = pd.read_csv(\"../data_preprocessing/5/experiment_2.csv\")\n",
    "df6 = pd.read_csv(\"../data_preprocessing/6/experiment_2.csv\")\n",
    "df7 = pd.read_csv(\"../data_preprocessing/7/experiment_2.csv\")\n",
    "df8 = pd.read_csv(\"../data_preprocessing/8/experiment_2.csv\")\n",
    "df9 = pd.read_csv(\"../data_preprocessing/9/experiment_2.csv\")\n",
    "df10 = pd.read_csv(\"../data_preprocessing/10/experiment_2.csv\")\n",
    "df11 = pd.read_csv(\"../data_preprocessing/11/experiment_2.csv\")\n",
    "df12 = pd.read_csv(\"../data_preprocessing/12/experiment_2.csv\")\n",
    "\n",
    "masterdf2 = pd.concat([df1,df2,df3,df4,df5,df6,df7,df8,df9,df10,df11,df12], axis=0, join='outer', ignore_index=False)\n",
    "masterdf2 = masterdf2.drop('Unnamed: 0', axis =1)\n",
    "masterdf2 = masterdf2.reset_index(drop=True)\n",
    "\n",
    "masterdf2.to_csv(\"master_experiment_2.csv\")\n",
    "\n",
    "experiment2 = masterdf2.copy()\n",
    "experiment2.columns = ['HR','ST', 'EDA', 'Labels']\n",
    "print('Some descriptive statistics extracted from the combined experiment (2) dataset...')\n",
    "display(experiment2.describe())"
   ]
  },
  {
   "cell_type": "markdown",
   "metadata": {},
   "source": [
    "### 3.3. Import & Combine Experiment (3) Data\n",
    "\n",
    "Below the data for __experiment (3)__ is combined."
   ]
  },
  {
   "cell_type": "code",
   "execution_count": 12,
   "metadata": {},
   "outputs": [
    {
     "name": "stdout",
     "output_type": "stream",
     "text": [
      "Some descriptive statistics extracted from the combined experiment (3) dataset...\n"
     ]
    },
    {
     "data": {
      "text/html": [
       "<div>\n",
       "<style scoped>\n",
       "    .dataframe tbody tr th:only-of-type {\n",
       "        vertical-align: middle;\n",
       "    }\n",
       "\n",
       "    .dataframe tbody tr th {\n",
       "        vertical-align: top;\n",
       "    }\n",
       "\n",
       "    .dataframe thead th {\n",
       "        text-align: right;\n",
       "    }\n",
       "</style>\n",
       "<table border=\"1\" class=\"dataframe\">\n",
       "  <thead>\n",
       "    <tr style=\"text-align: right;\">\n",
       "      <th></th>\n",
       "      <th>HR</th>\n",
       "      <th>ST</th>\n",
       "      <th>EDA</th>\n",
       "      <th>Labels</th>\n",
       "    </tr>\n",
       "  </thead>\n",
       "  <tbody>\n",
       "    <tr>\n",
       "      <td>count</td>\n",
       "      <td>20002.000000</td>\n",
       "      <td>20002.000000</td>\n",
       "      <td>20002.000000</td>\n",
       "      <td>20002.000000</td>\n",
       "    </tr>\n",
       "    <tr>\n",
       "      <td>mean</td>\n",
       "      <td>86.856100</td>\n",
       "      <td>31.431672</td>\n",
       "      <td>0.449541</td>\n",
       "      <td>0.500050</td>\n",
       "    </tr>\n",
       "    <tr>\n",
       "      <td>std</td>\n",
       "      <td>14.479491</td>\n",
       "      <td>1.679516</td>\n",
       "      <td>0.259400</td>\n",
       "      <td>0.500012</td>\n",
       "    </tr>\n",
       "    <tr>\n",
       "      <td>min</td>\n",
       "      <td>52.043333</td>\n",
       "      <td>28.858000</td>\n",
       "      <td>0.001311</td>\n",
       "      <td>0.000000</td>\n",
       "    </tr>\n",
       "    <tr>\n",
       "      <td>25%</td>\n",
       "      <td>77.835833</td>\n",
       "      <td>29.490000</td>\n",
       "      <td>0.232071</td>\n",
       "      <td>0.000000</td>\n",
       "    </tr>\n",
       "    <tr>\n",
       "      <td>50%</td>\n",
       "      <td>88.115000</td>\n",
       "      <td>31.590000</td>\n",
       "      <td>0.445365</td>\n",
       "      <td>1.000000</td>\n",
       "    </tr>\n",
       "    <tr>\n",
       "      <td>75%</td>\n",
       "      <td>94.088333</td>\n",
       "      <td>33.000667</td>\n",
       "      <td>0.651391</td>\n",
       "      <td>1.000000</td>\n",
       "    </tr>\n",
       "    <tr>\n",
       "      <td>max</td>\n",
       "      <td>147.408889</td>\n",
       "      <td>34.566000</td>\n",
       "      <td>1.000012</td>\n",
       "      <td>1.000000</td>\n",
       "    </tr>\n",
       "  </tbody>\n",
       "</table>\n",
       "</div>"
      ],
      "text/plain": [
       "                 HR            ST           EDA        Labels\n",
       "count  20002.000000  20002.000000  20002.000000  20002.000000\n",
       "mean      86.856100     31.431672      0.449541      0.500050\n",
       "std       14.479491      1.679516      0.259400      0.500012\n",
       "min       52.043333     28.858000      0.001311      0.000000\n",
       "25%       77.835833     29.490000      0.232071      0.000000\n",
       "50%       88.115000     31.590000      0.445365      1.000000\n",
       "75%       94.088333     33.000667      0.651391      1.000000\n",
       "max      147.408889     34.566000      1.000012      1.000000"
      ]
     },
     "metadata": {},
     "output_type": "display_data"
    }
   ],
   "source": [
    "df1 = pd.read_csv(\"../data_preprocessing/1/experiment_3.csv\")\n",
    "df3 = pd.read_csv(\"../data_preprocessing/3/experiment_3.csv\")\n",
    "df4 = pd.read_csv(\"../data_preprocessing/4/experiment_3.csv\")\n",
    "df5 = pd.read_csv(\"../data_preprocessing/5/experiment_3.csv\")\n",
    "df6 = pd.read_csv(\"../data_preprocessing/6/experiment_3.csv\")\n",
    "df7 = pd.read_csv(\"../data_preprocessing/7/experiment_3.csv\")\n",
    "df9 = pd.read_csv(\"../data_preprocessing/9/experiment_3.csv\")\n",
    "df10 = pd.read_csv(\"../data_preprocessing/10/experiment_3.csv\")\n",
    "df11 = pd.read_csv(\"../data_preprocessing/11/experiment_3.csv\")\n",
    "df12 = pd.read_csv(\"../data_preprocessing/12/experiment_3.csv\")\n",
    "\n",
    "masterdf3 = pd.concat([df1,df3,df4,df5,df6,df7,df9,df10,df11,df12], axis=0, join='outer', ignore_index=False)\n",
    "masterdf3 = masterdf3.drop('Unnamed: 0', axis =1)\n",
    "masterdf3 = masterdf3.reset_index(drop=True)\n",
    "\n",
    "masterdf3.to_csv(\"master_experiment_3.csv\")\n",
    "\n",
    "experiment3 = masterdf3.copy()\n",
    "experiment3.columns = ['HR','ST', 'EDA', 'Labels']\n",
    "print('Some descriptive statistics extracted from the combined experiment (3) dataset...')\n",
    "display(experiment3.describe())"
   ]
  },
  {
   "cell_type": "markdown",
   "metadata": {},
   "source": [
    "## 4.Data Visualisation \n",
    "\n",
    "Below are correlation matrices extracted from the combined datasets for each experiment."
   ]
  },
  {
   "cell_type": "code",
   "execution_count": 5,
   "metadata": {
    "scrolled": true
   },
   "outputs": [
    {
     "data": {
      "image/png": "[encoded data removed]",
      "text/plain": [
       "<Figure size 1080x216 with 6 Axes>"
      ]
     },
     "metadata": {
      "needs_background": "light"
     },
     "output_type": "display_data"
    }
   ],
   "source": [
    "fig, (ax1, ax2, ax3) = plt.subplots(1, 3, figsize=(15,3))\n",
    "fig.suptitle('Correlation matrices for the 3 experiment datasets', fontsize = 15)\n",
    "labeldata = ['HR', 'ST', 'EDA','Labels']\n",
    "\n",
    "sns.set(font_scale=0.8)\n",
    "ax1.set_title(\"experiment 1 (binary)\", fontsize = 10)\n",
    "sns.heatmap(masterdf1.corr(method = 'pearson'), vmin=0, vmax=1, annot=True, cmap=\"BuPu\", ax=ax1, yticklabels = labeldata, xticklabels = labeldata)\n",
    "ax2.set_title(\"experiment 2 (multi-class)\", fontsize =10)\n",
    "sns.heatmap(masterdf2.corr(method = 'pearson'), vmin=0, vmax=1, annot=True, cmap=\"BuPu\", ax=ax2, yticklabels = labeldata, xticklabels = labeldata)\n",
    "ax3.set_title(\"experiment 3 (binary)\", fontsize = 10)\n",
    "sns.heatmap(masterdf3.corr(method = 'pearson'), vmin=0, vmax=1, annot=True, cmap=\"BuPu\", ax=ax3, yticklabels = labeldata, xticklabels = labeldata)\n",
    "plt.subplots_adjust(hspace=0.6,wspace=0.5, top=0.8)\n",
    "plt.show()"
   ]
  },
  {
   "cell_type": "markdown",
   "metadata": {},
   "source": [
    "Below the visualisation of data used in __experiment (1) & (2)__ against the labels."
   ]
  },
  {
   "cell_type": "code",
   "execution_count": 14,
   "metadata": {
    "scrolled": false
   },
   "outputs": [
    {
     "data": {
      "image/png": "[encoded data removed]",
      "text/plain": [
       "<Figure size 1080x864 with 5 Axes>"
      ]
     },
     "metadata": {
      "needs_background": "light"
     },
     "output_type": "display_data"
    }
   ],
   "source": [
    "fig, (ax1, ax2, ax3, ax4, ax5) = plt.subplots(5, 1, frameon = True)\n",
    "\n",
    "ax1.set_title('Combined Physiological Data and Experiment Labels', fontsize = 15)\n",
    "\n",
    "masterdf1['0'].plot(ax=ax1, legend=False, color = 'indigo')\n",
    "ax1.yaxis.set_label_text(\"HR (BPM)\")\n",
    "ax1.xaxis.set_label_text(\"Number of data points\")\n",
    "ax1.set_facecolor(color = 'ghostwhite')\n",
    "ax1.grid(which='both', color ='lightgrey')\n",
    "\n",
    "masterdf1['1'].plot(ax=ax2, legend=False, color = 'indigo')\n",
    "ax2.yaxis.set_label_text(\"ST (°C)\")\n",
    "ax2.xaxis.set_label_text(\"Number of data points\")\n",
    "ax2.set_facecolor(color = 'ghostwhite')\n",
    "ax2.grid(which='both',  color ='lightgrey')\n",
    "\n",
    "masterdf1['2'].plot(ax=ax3, legend=False, color = 'indigo')\n",
    "ax3.yaxis.set_label_text(\"Range Corrected EDA (μS)\")\n",
    "ax3.xaxis.set_label_text(\"Number of data points\")\n",
    "ax3.set_facecolor(color = 'ghostwhite')\n",
    "ax3.grid(which='both', color ='lightgrey')\n",
    "\n",
    "masterdf1['3'].plot(ax=ax4, legend=False, color = 'indigo')\n",
    "ax4.yaxis.set_label_text(\"Experiment (1) labels\")\n",
    "ax4.xaxis.set_label_text(\"Number of data points\")\n",
    "ax4.set_facecolor(color = 'ghostwhite')\n",
    "ax4.grid(which='both', color = 'lightgrey')\n",
    "\n",
    "masterdf2['3'].plot(ax=ax5, legend=False, color = 'indigo')\n",
    "ax5.yaxis.set_label_text(\"Experiment (2) labels\")\n",
    "ax5.xaxis.set_label_text(\"Number of data points\")\n",
    "ax5.set_facecolor(color = 'ghostwhite')\n",
    "ax5.grid(which='both', color ='lightgrey')\n",
    "\n",
    "fig.set_size_inches(15, 12)\n",
    "fig.subplots_adjust(hspace=0.5)\n",
    "fig.savefig('combined_data.png', dpi = 200)\n",
    "plt.show()"
   ]
  },
  {
   "cell_type": "markdown",
   "metadata": {},
   "source": [
    "## 5. General Train and Test\n",
    "\n",
    "The following __split_train_test__ function retreives the data for the given experiment and randomises the dataset (however if the _repeat = True_ then a pre-randomised dataset will be retrieved). Then the data is split into train (66.7%) and test (33.3%). Following this the training data is standardised using [StandardScaler](https://scikit-learn.org/stable/modules/generated/sklearn.preprocessing.StandardScaler.html), the same transform is then applied to the test data. A model is then trained using the inputted classifer and evaluated using the test data. The accuracy of the prediction is then outputted. A confusion matrix is also outputted as an indication of how well the model has classified the data, see diagram below.\n",
    "\n",
    "<img src=\"../images/ConfusionMatrix.png\" width=\"390\"/>\n",
    "\n",
    "The desired classification algorithm can be set as an input argument. As previously mentioned the following classifiers are explored SVM, Random Forest, Decision Tree, K-Nearest Neighbours, Naive Bayes and Logistic Regression. You can find out more information about them [here](https://scikit-learn.org/stable/supervised_learning.html#supervised-learning). Their hyperparameters used have been identified previously using hyperparameter tuning. If you would like to test other classification algorithms please import them from [Scikit-learn](https://scikit-learn.org/stable/) and assign them to the model input argument.\n",
    "\n",
    "\n",
    "#### Parameters for split_train_test function\n",
    "---\n",
    "__experiment_number__  _int, {1,2,3}, default=None_ <br/>\n",
    "The _experiment_number_ determines which ML experiment you are training models for. More details about each experiment can be found in the introduction. It is not an optional parameter.\n",
    "\n",
    "__model__  _default=None_ <br/>\n",
    "The _model_ should be assigned to a classifier/estimator to be used e.g. _model = LogisticRegression()_. It is not an optional parameter.\n",
    "\n",
    "__repeat__  _boolean, default=False, optional_ <br/>\n",
    "When _repeat_ is set to _True_ then the function will retrieve the pre-randomised dataset for the chosen experiment, in order to reproduce the results within the report. When _repeat_ is set to _False_ the function will actively randomise a dataset combined earlier. Please note that the Random Forest results may not reproduce the exact same results due to it's randomness [(Muller and Guido)](https://www.amazon.co.uk/Introduction-Machine-Learning-Python-Sarah/dp/1449369413). It is an optional parameter."
   ]
  },
  {
   "cell_type": "code",
   "execution_count": 2,
   "metadata": {},
   "outputs": [],
   "source": [
    "def split_train_test(experiment_number=None, model=None, repeat=False):\n",
    "    \n",
    "    \"\"\"\n",
    "    Function: split_train_test\n",
    "    --------------------------\n",
    "\n",
    "    Summary\n",
    "    -------\n",
    "\n",
    "    The following function trains the given model on 66.7% of the data \n",
    "    and then evaluates the model using the 33.3% of the remaining data. \n",
    "    The function then outputs an accuracy and confusion matrix.\n",
    "\n",
    "    Procedure\n",
    "    ---------\n",
    "    \n",
    "    The function first retrieves pre-randomised data or actively randomises dataset.\n",
    "    The randomised data is then split into 66.7% train dataset and 33.3% test dataset. \n",
    "    Both the train and test data are scaled using StandardScaler.\n",
    "    A model is then trained using inputted classifier and train dataset.\n",
    "    The trained model is then evaluated using the test data.\n",
    "    The function then outputs the accuracy as well as a confusion matrix.\n",
    "    \n",
    "    \"\"\"\n",
    "    \n",
    "    start = 0\n",
    "    num_cols = ['0','1','2']\n",
    "    akws = {'va': 'bottom','size': '16', \"weight\": \"bold\"}\n",
    "    labeldata1 = ['baseline', 'anxious']\n",
    "    multilabeldata = ['baseline', 'anticipation', 'reactive']\n",
    "    labeldata2 = ['moderate', 'marked']\n",
    "    \n",
    "    #Output error messages to improve interaction \n",
    "    if experiment_number == None or experiment_number < 1 or experiment_number > 3:\n",
    "        print('Error: please input experiment number between 1 and 3 e.g. experiment_number = 1')\n",
    "        return\n",
    "    if model == None:\n",
    "        print('Error: please input a model e.g. model = KNeighborsClassifier()')\n",
    "        return\n",
    "    \n",
    "    #If repeat is True, a previously randomised dataset will be used \n",
    "    if repeat == True:\n",
    "        #reading the correct preprocessed combined data\n",
    "        if experiment_number == 1:\n",
    "            df = pd.read_csv(\"experiment_1_randomised_data.csv\")\n",
    "            print('Preparing pre-randomised data for experiment (1)...\\n')\n",
    "        elif experiment_number == 2:\n",
    "            df = pd.read_csv(\"experiment_2_randomised_data.csv\")\n",
    "            print('Preparing pre-randomised for experiment (2)... \\n')\n",
    "        else: \n",
    "            experiment_number == 3\n",
    "            df = pd.read_csv(\"experiment_3_randomised_data.csv\")\n",
    "            print('Preparing pre-randomised data for experiment (3)...\\n')\n",
    "\n",
    "    #If repeat is False, the data will be actively randomised\n",
    "    else:\n",
    "        #reading the correct combined data\n",
    "        if experiment_number == 1:\n",
    "            file = pd.read_csv(\"master_experiment_1.csv\")\n",
    "            print('Preparing data for experiment (1)...\\n')\n",
    "        elif experiment_number == 2:\n",
    "            file = pd.read_csv(\"master_experiment_2.csv\")\n",
    "            print('Preparing data for experiment (2)... \\n')\n",
    "        else: \n",
    "            experiment_number == 3\n",
    "            file = pd.read_csv(\"master_experiment_3.csv\")\n",
    "            print('Preparing data for experiment (3)...\\n')\n",
    "\n",
    "        #shuffling data randomly\n",
    "        idx = np.random.permutation(file.index)\n",
    "        df = file.reindex(idx, axis=0)\n",
    "        df = df.drop('Unnamed: 0', axis =1)\n",
    "        df = df.reset_index(drop=True)\n",
    "        df.to_csv(\"randomised_data.csv\")\n",
    "        df = pd.read_csv(\"randomised_data.csv\")\n",
    "        \n",
    "    #splitting into test and train\n",
    "    df = df.drop('Unnamed: 0', axis =1)\n",
    "    counter = int(len(df)/3)\n",
    "    duration = counter\n",
    "    trainset = df.drop(df.index[start:duration]) \n",
    "    trainset = trainset.reset_index(drop=True)\n",
    "    testset = df[start:duration]\n",
    "    testset = testset.reset_index(drop=True)        \n",
    "\n",
    "    #standardising data columns\n",
    "    for z in num_cols:\n",
    "\n",
    "        # fit on training data column\n",
    "        scale = preprocessing.StandardScaler().fit(trainset[[z]])\n",
    "        # transform the training data column\n",
    "        trainset[z] = scale.transform(trainset[[z]])\n",
    "        # transform the test data column\n",
    "        testset[z] = scale.transform(testset[[z]])\n",
    "\n",
    "    train_X = trainset[trainset.columns[0:3]]\n",
    "    train_Y = trainset[trainset.columns[3]]\n",
    "    test_X = testset[testset.columns[0:3]]\n",
    "    test_Y = testset[testset.columns[3]]\n",
    "\n",
    "    #identifying if multi-class or binary classification\n",
    "    if experiment_number == 2:\n",
    "            model_prepared = OneVsRestClassifier(model)\n",
    "    else: \n",
    "            model_prepared = model\n",
    "            \n",
    "    #fitting model    \n",
    "    modelfit = model_prepared.fit(train_X,train_Y)\n",
    "    prediction = modelfit.predict(test_X)\n",
    "    modelaccuracy = metrics.accuracy_score(prediction,test_Y)\n",
    "    \n",
    "    #confusion matrix\n",
    "    if experiment_number == 1:\n",
    "        sns.heatmap(metrics.confusion_matrix(test_Y,prediction),annot=True,fmt='2.0f', annot_kws=akws, cmap=\"BuPu\", yticklabels = labeldata1, xticklabels = labeldata1)\n",
    "    elif experiment_number == 2:\n",
    "        sns.heatmap(metrics.confusion_matrix(test_Y,prediction),annot=True,fmt='2.0f', annot_kws=akws, cmap=\"BuPu\", yticklabels = multilabeldata, xticklabels = multilabeldata)\n",
    "    else:\n",
    "        sns.heatmap(metrics.confusion_matrix(test_Y,prediction),annot=True,fmt='2.0f', annot_kws=akws, cmap=\"BuPu\", yticklabels = labeldata2, xticklabels = labeldata2)\n",
    "        \n",
    "    plt.tick_params(labelsize=12)\n",
    "    plt.xlabel('Predicted', fontsize = 17)\n",
    "    plt.ylabel('True Labels', fontsize = 17) \n",
    "    fig=plt.gcf()\n",
    "    fig.set_size_inches(6,5)\n",
    "    plt.show()\n",
    "    \n",
    "    #output accuracy and model with classifier parameters\n",
    "    print('Accuracy is %.2f' %round(Decimal(100*modelaccuracy),2))\n",
    "    print('-'*90)\n",
    "    print('Classifier:',model) \n"
   ]
  },
  {
   "cell_type": "markdown",
   "metadata": {},
   "source": [
    "#### 5.1. Experiment (1) \n",
    "Classifying between baseline and socially anxious states."
   ]
  },
  {
   "cell_type": "code",
   "execution_count": 297,
   "metadata": {},
   "outputs": [
    {
     "name": "stdout",
     "output_type": "stream",
     "text": [
      "Preparing data for experiment (1)...\n",
      "\n"
     ]
    },
    {
     "data": {
      "image/png": "[encoded data removed]",
      "text/plain": [
       "<Figure size 432x360 with 2 Axes>"
      ]
     },
     "metadata": {},
     "output_type": "display_data"
    },
    {
     "name": "stdout",
     "output_type": "stream",
     "text": [
      "Accuracy is 99.47\n",
      "------------------------------------------------------------------------------------------\n",
      "Classifier: SVC(C=1000, cache_size=200, class_weight=None, coef0=0.0,\n",
      "    decision_function_shape='ovr', degree=3, gamma=1, kernel='rbf', max_iter=-1,\n",
      "    probability=False, random_state=None, shrinking=True, tol=0.001,\n",
      "    verbose=False)\n"
     ]
    }
   ],
   "source": [
    "#Experiment 1 - Radial SVM\n",
    "split_train_test(experiment_number = 1, model = svm.SVC(kernel='rbf', C = 1000, gamma = 1))"
   ]
  },
  {
   "cell_type": "code",
   "execution_count": 15,
   "metadata": {},
   "outputs": [
    {
     "name": "stdout",
     "output_type": "stream",
     "text": [
      "Preparing pre-randomised data for experiment (1)...\n",
      "\n"
     ]
    },
    {
     "data": {
      "image/png": "[encoded data removed]",
      "text/plain": [
       "<Figure size 432x360 with 2 Axes>"
      ]
     },
     "metadata": {},
     "output_type": "display_data"
    },
    {
     "name": "stdout",
     "output_type": "stream",
     "text": [
      "Accuracy is 98.76\n",
      "------------------------------------------------------------------------------------------\n",
      "Classifier: KNeighborsClassifier(algorithm='auto', leaf_size=30, metric='minkowski',\n",
      "                     metric_params=None, n_jobs=None, n_neighbors=50, p=2,\n",
      "                     weights='uniform')\n"
     ]
    }
   ],
   "source": [
    "#Experiment 1 - KNN\n",
    "split_train_test(experiment_number = 1,model =  KNeighborsClassifier(n_neighbors=50), repeat = True)"
   ]
  },
  {
   "cell_type": "code",
   "execution_count": 296,
   "metadata": {},
   "outputs": [
    {
     "name": "stdout",
     "output_type": "stream",
     "text": [
      "Preparing pre-randomised data for experiment (1)...\n",
      "\n"
     ]
    },
    {
     "data": {
      "image/png": "[encoded data removed]",
      "text/plain": [
       "<Figure size 432x360 with 2 Axes>"
      ]
     },
     "metadata": {},
     "output_type": "display_data"
    },
    {
     "name": "stdout",
     "output_type": "stream",
     "text": [
      "Accuracy is 97.58\n",
      "------------------------------------------------------------------------------------------\n",
      "Classifier: DecisionTreeClassifier(class_weight=None, criterion='gini', max_depth=8,\n",
      "                       max_features=None, max_leaf_nodes=None,\n",
      "                       min_impurity_decrease=0.0, min_impurity_split=None,\n",
      "                       min_samples_leaf=1, min_samples_split=2,\n",
      "                       min_weight_fraction_leaf=0.0, presort=False,\n",
      "                       random_state=None, splitter='best')\n"
     ]
    }
   ],
   "source": [
    "#Experiment 1 - Decision Tree\n",
    "split_train_test(experiment_number = 1, model = DecisionTreeClassifier(criterion = 'gini', max_depth = 8), repeat=True )"
   ]
  },
  {
   "cell_type": "code",
   "execution_count": 7,
   "metadata": {
    "scrolled": false
   },
   "outputs": [
    {
     "name": "stdout",
     "output_type": "stream",
     "text": [
      "Preparing pre-randomised data for experiment (1)...\n",
      "\n"
     ]
    },
    {
     "data": {
      "image/png": "[encoded data removed]",
      "text/plain": [
       "<Figure size 432x360 with 2 Axes>"
      ]
     },
     "metadata": {
      "needs_background": "light"
     },
     "output_type": "display_data"
    },
    {
     "name": "stdout",
     "output_type": "stream",
     "text": [
      "Accuracy is 98.07\n",
      "------------------------------------------------------------------------------------------\n",
      "Classifier: RandomForestClassifier(bootstrap=False, class_weight=None, criterion='gini',\n",
      "                       max_depth=8, max_features='auto', max_leaf_nodes=None,\n",
      "                       min_impurity_decrease=0.0, min_impurity_split=None,\n",
      "                       min_samples_leaf=1, min_samples_split=2,\n",
      "                       min_weight_fraction_leaf=0.0, n_estimators=400,\n",
      "                       n_jobs=None, oob_score=False, random_state=None,\n",
      "                       verbose=0, warm_start=False)\n"
     ]
    }
   ],
   "source": [
    "#Experiment 1 - Random Forest\n",
    "split_train_test(experiment_number = 1, model = RandomForestClassifier(n_estimators = 400, min_samples_split = 2, min_samples_leaf= 1, max_depth = 8, bootstrap = False), repeat=True)"
   ]
  },
  {
   "cell_type": "markdown",
   "metadata": {},
   "source": [
    "#### 5.2. Experiment (2)  \n",
    "Classifying between the three states, baseline, anticipation social anxiety and reactive social anxiety."
   ]
  },
  {
   "cell_type": "code",
   "execution_count": 303,
   "metadata": {},
   "outputs": [
    {
     "name": "stdout",
     "output_type": "stream",
     "text": [
      "Preparing pre-randomised for experiment (2)... \n",
      "\n"
     ]
    },
    {
     "data": {
      "image/png": "[encoded data removed]",
      "text/plain": [
       "<Figure size 432x360 with 2 Axes>"
      ]
     },
     "metadata": {},
     "output_type": "display_data"
    },
    {
     "name": "stdout",
     "output_type": "stream",
     "text": [
      "Accuracy is 97.88\n",
      "------------------------------------------------------------------------------------------\n",
      "Classifier: SVC(C=1000, cache_size=200, class_weight=None, coef0=0.0,\n",
      "    decision_function_shape='ovr', degree=3, gamma=1, kernel='rbf', max_iter=-1,\n",
      "    probability=False, random_state=None, shrinking=True, tol=0.001,\n",
      "    verbose=False)\n"
     ]
    }
   ],
   "source": [
    "#Experiment 2 - Radial SVM\n",
    "split_train_test(experiment_number = 2, model = svm.SVC(kernel='rbf', C = 1000, gamma = 1), repeat = True)"
   ]
  },
  {
   "cell_type": "code",
   "execution_count": 302,
   "metadata": {},
   "outputs": [
    {
     "name": "stdout",
     "output_type": "stream",
     "text": [
      "Preparing pre-randomised for experiment (2)... \n",
      "\n"
     ]
    },
    {
     "data": {
      "image/png": "[encoded data removed]",
      "text/plain": [
       "<Figure size 432x360 with 2 Axes>"
      ]
     },
     "metadata": {},
     "output_type": "display_data"
    },
    {
     "name": "stdout",
     "output_type": "stream",
     "text": [
      "Accuracy is 96.86\n",
      "------------------------------------------------------------------------------------------\n",
      "Classifier: KNeighborsClassifier(algorithm='auto', leaf_size=30, metric='minkowski',\n",
      "                     metric_params=None, n_jobs=None, n_neighbors=50, p=2,\n",
      "                     weights='uniform')\n"
     ]
    }
   ],
   "source": [
    "#Experiment 2 - KNN\n",
    "split_train_test(experiment_number = 2, model =  KNeighborsClassifier(n_neighbors=50), repeat = True)"
   ]
  },
  {
   "cell_type": "code",
   "execution_count": 300,
   "metadata": {},
   "outputs": [
    {
     "name": "stdout",
     "output_type": "stream",
     "text": [
      "Preparing pre-randomised for experiment (2)... \n",
      "\n"
     ]
    },
    {
     "data": {
      "image/png": "[encoded data removed]",
      "text/plain": [
       "<Figure size 432x360 with 2 Axes>"
      ]
     },
     "metadata": {},
     "output_type": "display_data"
    },
    {
     "name": "stdout",
     "output_type": "stream",
     "text": [
      "Accuracy is 96.14\n",
      "------------------------------------------------------------------------------------------\n",
      "Classifier: DecisionTreeClassifier(class_weight=None, criterion='gini', max_depth=8,\n",
      "                       max_features=None, max_leaf_nodes=None,\n",
      "                       min_impurity_decrease=0.0, min_impurity_split=None,\n",
      "                       min_samples_leaf=1, min_samples_split=2,\n",
      "                       min_weight_fraction_leaf=0.0, presort=False,\n",
      "                       random_state=None, splitter='best')\n"
     ]
    }
   ],
   "source": [
    "#Experiment 2 - Decision Tree\n",
    "split_train_test(experiment_number = 2, model = DecisionTreeClassifier(criterion = 'gini', max_depth = 8), repeat = True )"
   ]
  },
  {
   "cell_type": "code",
   "execution_count": 8,
   "metadata": {},
   "outputs": [
    {
     "name": "stdout",
     "output_type": "stream",
     "text": [
      "Preparing pre-randomised for experiment (2)... \n",
      "\n"
     ]
    },
    {
     "data": {
      "image/png": "[encoded data removed]",
      "text/plain": [
       "<Figure size 432x360 with 2 Axes>"
      ]
     },
     "metadata": {
      "needs_background": "light"
     },
     "output_type": "display_data"
    },
    {
     "name": "stdout",
     "output_type": "stream",
     "text": [
      "Accuracy is 95.03\n",
      "------------------------------------------------------------------------------------------\n",
      "Classifier: RandomForestClassifier(bootstrap=False, class_weight=None, criterion='gini',\n",
      "                       max_depth=8, max_features='auto', max_leaf_nodes=None,\n",
      "                       min_impurity_decrease=0.0, min_impurity_split=None,\n",
      "                       min_samples_leaf=1, min_samples_split=2,\n",
      "                       min_weight_fraction_leaf=0.0, n_estimators=400,\n",
      "                       n_jobs=None, oob_score=False, random_state=None,\n",
      "                       verbose=0, warm_start=False)\n"
     ]
    }
   ],
   "source": [
    "#Experiment 2 - Random Forest\n",
    "split_train_test(experiment_number = 2, model = RandomForestClassifier( n_estimators = 400, min_samples_split = 2, min_samples_leaf= 1, max_depth = 8, bootstrap = False), repeat = True)"
   ]
  },
  {
   "cell_type": "markdown",
   "metadata": {},
   "source": [
    "#### 5.3. Experiment (3)  \n",
    "Classifying between marked and moderate social anxiety."
   ]
  },
  {
   "cell_type": "code",
   "execution_count": 52,
   "metadata": {},
   "outputs": [
    {
     "name": "stdout",
     "output_type": "stream",
     "text": [
      "Preparing pre-randomised data for experiment (3)...\n",
      "\n"
     ]
    },
    {
     "data": {
      "image/png": "[encoded data removed]",
      "text/plain": [
       "<Figure size 432x360 with 2 Axes>"
      ]
     },
     "metadata": {
      "needs_background": "light"
     },
     "output_type": "display_data"
    },
    {
     "name": "stdout",
     "output_type": "stream",
     "text": [
      "Accuracy is 99.52\n",
      "------------------------------------------------------------------------------------------\n",
      "Classifier: SVC(C=1000, cache_size=200, class_weight=None, coef0=0.0,\n",
      "    decision_function_shape='ovr', degree=3, gamma=1, kernel='rbf', max_iter=-1,\n",
      "    probability=False, random_state=None, shrinking=True, tol=0.001,\n",
      "    verbose=False)\n"
     ]
    }
   ],
   "source": [
    "#Experiment 3 - Radial SVM\n",
    "split_train_test(experiment_number = 3, model = svm.SVC(kernel='rbf', C = 1000, gamma = 1), repeat = True)"
   ]
  },
  {
   "cell_type": "code",
   "execution_count": 51,
   "metadata": {},
   "outputs": [
    {
     "name": "stdout",
     "output_type": "stream",
     "text": [
      "Preparing pre-randomised data for experiment (3)...\n",
      "\n"
     ]
    },
    {
     "data": {
      "image/png": "[encoded data removed]",
      "text/plain": [
       "<Figure size 432x360 with 2 Axes>"
      ]
     },
     "metadata": {
      "needs_background": "light"
     },
     "output_type": "display_data"
    },
    {
     "name": "stdout",
     "output_type": "stream",
     "text": [
      "Accuracy is 98.41\n",
      "------------------------------------------------------------------------------------------\n",
      "Classifier: KNeighborsClassifier(algorithm='auto', leaf_size=30, metric='minkowski',\n",
      "                     metric_params=None, n_jobs=None, n_neighbors=50, p=2,\n",
      "                     weights='uniform')\n"
     ]
    }
   ],
   "source": [
    "#Experiment 3 - KNN\n",
    "split_train_test(experiment_number = 3, model =  KNeighborsClassifier(n_neighbors=50), repeat = True)"
   ]
  },
  {
   "cell_type": "code",
   "execution_count": 49,
   "metadata": {},
   "outputs": [
    {
     "name": "stdout",
     "output_type": "stream",
     "text": [
      "Preparing pre-randomised data for experiment (3)...\n",
      "\n"
     ]
    },
    {
     "data": {
      "image/png": "[encoded data removed]",
      "text/plain": [
       "<Figure size 432x360 with 2 Axes>"
      ]
     },
     "metadata": {
      "needs_background": "light"
     },
     "output_type": "display_data"
    },
    {
     "name": "stdout",
     "output_type": "stream",
     "text": [
      "Accuracy is 99.19\n",
      "------------------------------------------------------------------------------------------\n",
      "Classifier: DecisionTreeClassifier(class_weight=None, criterion='gini', max_depth=8,\n",
      "                       max_features=None, max_leaf_nodes=None,\n",
      "                       min_impurity_decrease=0.0, min_impurity_split=None,\n",
      "                       min_samples_leaf=1, min_samples_split=2,\n",
      "                       min_weight_fraction_leaf=0.0, presort=False,\n",
      "                       random_state=None, splitter='best')\n"
     ]
    }
   ],
   "source": [
    "#Experiment 3 - Decision Tree\n",
    "split_train_test(experiment_number = 3, model = DecisionTreeClassifier(criterion = 'gini', max_depth = 8), repeat = True)"
   ]
  },
  {
   "cell_type": "code",
   "execution_count": 50,
   "metadata": {},
   "outputs": [
    {
     "name": "stdout",
     "output_type": "stream",
     "text": [
      "Preparing pre-randomised data for experiment (3)...\n",
      "\n"
     ]
    },
    {
     "data": {
      "image/png": "[encoded data removed]",
      "text/plain": [
       "<Figure size 432x360 with 2 Axes>"
      ]
     },
     "metadata": {
      "needs_background": "light"
     },
     "output_type": "display_data"
    },
    {
     "name": "stdout",
     "output_type": "stream",
     "text": [
      "Accuracy is 99.27\n",
      "------------------------------------------------------------------------------------------\n",
      "Classifier: RandomForestClassifier(bootstrap=False, class_weight=None, criterion='gini',\n",
      "                       max_depth=8, max_features='auto', max_leaf_nodes=None,\n",
      "                       min_impurity_decrease=0.0, min_impurity_split=None,\n",
      "                       min_samples_leaf=1, min_samples_split=2,\n",
      "                       min_weight_fraction_leaf=0.0, n_estimators=400,\n",
      "                       n_jobs=None, oob_score=False, random_state=None,\n",
      "                       verbose=0, warm_start=False)\n"
     ]
    }
   ],
   "source": [
    "#Experiment 3 - Random Forest\n",
    "split_train_test(experiment_number = 3, model = RandomForestClassifier( n_estimators = 400, min_samples_split = 2, min_samples_leaf= 1, max_depth = 8, bootstrap = False), repeat = True)"
   ]
  },
  {
   "cell_type": "markdown",
   "metadata": {},
   "source": [
    "## 6. Further Evaluation Using Cross Validation\n",
    "\n",
    "The accuracy of the models were more effectively estimated using 10-fold cross validation. K-fold cross validation a common method used to examine performance of a predictive model, it gives a better indication of the robustness of a model as well as an indication of how precise the estimate is based on the outputted standard deviation. The method involves dividing the dataset into k-folds with one-fold for testing whilst the other subsets are used in the training set. The procedure is repeated k times so that all subsets are used as a test set once, which is beneficial when datasets are limited. Following this, the mean cross validation accuracy and the standard deviation is outputted.\n",
    "\n",
    "<img src=\"../images/GithubKFold.png\" width=\"460\"/>\n",
    "\n",
    "The following __cross_validation__ function retreives the data for the given experiment and randomises the dataset (however if the _repeat = True_ then a pre-randomised dataset will be retrieved). Then the data is split into k-folds, with one fold as the test data and k-1 folds as training data. Following this, the training data is standardised using [StandardScaler](https://scikit-learn.org/stable/modules/generated/sklearn.preprocessing.StandardScaler.html), the same transform is then applied to the test data. This procedure is repeated k times. The function then outputs the mean cross validation accuracy and the standard deviation.\n",
    "\n",
    "\n",
    "#### Parameters for cross_validation function\n",
    "---\n",
    "__experiment_number__  _int, {1,2,3}, default=None_ <br/>\n",
    "The _experiment_number_ determines which ML experiment you are training models for. More details about each experiment can be found in the introduction. It is not an optional parameter.\n",
    "\n",
    "__folds__  _int, default=5_ <br/>\n",
    "The _folds_ is an integer that determines k in k-fold cross validation, therefore determines the number of folds. It's default value is 5.\n",
    "\n",
    "__model__  _default=None_ <br/>\n",
    "The _model_ should be assigned to a classifier/estimator to be used e.g. _model = LogisticRegression()_. It is not an optional parameter.\n",
    "\n",
    "__repeat__  _boolean, default=False, optional_ <br/>\n",
    "When _repeat_ is set to _True_ then the function will retrieve the pre-randomised dataset for the chosen experiment, in order to reproduce the results within the report. When _repeat_ is set to _False_ the function will actively randomise a dataset combined earlier. Please note that the Random Forest results may not reproduce the exact same results due to it's randomness [(Muller and Guido)](https://www.amazon.co.uk/Introduction-Machine-Learning-Python-Sarah/dp/1449369413). It is an optional parameter.\n",
    "\n",
    "__confused_matrix__  _str,{'general', 'normalised'}, default='', optional_ <br/>\n",
    "When _confused_matrix_ is set to _'general'_ then the function will output a confusion matrix per fold, in order to indicate how well the model has classified information. If _confused_matrix_ is set to _'normalised'_ then a normalised confusion matrix will be returned. It is an optional parameter."
   ]
  },
  {
   "cell_type": "code",
   "execution_count": 3,
   "metadata": {},
   "outputs": [],
   "source": [
    "def cross_validation(experiment_number=None, folds=5, model=None, repeat=False, confused_matrix=''):\n",
    "    \n",
    "    \"\"\"\n",
    "    Function: cross_validation    \n",
    "    --------------------------\n",
    "\n",
    "    Summary\n",
    "    -------\n",
    "\n",
    "    The following function performs k-fold cross validation and outputs the \n",
    "    mean cross validation accuracies and standard deviation of accuracies.\n",
    "    The function can also output a confusion matrix per fold.\n",
    "    \n",
    "    Procedure\n",
    "    ---------\n",
    "    \n",
    "    The function first retrieves pre-randomised data or actively randomises dataset. \n",
    "    The randomised data is then split into k-folds with one fold for testing and k-1 folds for training.\n",
    "    Both the train and test data are scaled using StandardScaler during each fold.\n",
    "    A model is then trained using inputted classifier and train dataset.\n",
    "    The trained model is then evaluated using the test data.\n",
    "    This procedure is repeated k times.\n",
    "    The function then outputs the mean cross validation accuracy and the standard deviation.\n",
    "    A confusion matrix per fold may also be outputted.\n",
    "    \n",
    "    \"\"\"\n",
    "    \n",
    "    start = 0\n",
    "    accuracy=[]\n",
    "    num_cols = ['0','1','2']\n",
    "    \n",
    "    #Output error messages to improve interaction \n",
    "    if experiment_number == None or experiment_number < 1 or experiment_number > 3:\n",
    "        print('Error: please input experiment number between 1 and 3 e.g. experiment_number = 1')\n",
    "        return\n",
    "    if folds <  2:\n",
    "        print('Error: please input more than folds > 1. If you would like to split 67% train and 33% test use function \"split_train_test\"')\n",
    "        return\n",
    "    if model == None:\n",
    "        print('Error: please input a valid model e.g. model = KNeighborsClassifier()')\n",
    "        return\n",
    "    \n",
    "    #If repeat is True, a previously randomised dataset will be used\n",
    "    if repeat == True:\n",
    "        #reading the correct combined preprocessed data\n",
    "        if experiment_number == 1:\n",
    "            df = pd.read_csv(\"experiment_1_randomised_data.csv\")\n",
    "            print('Preparing pre-randomised data for experiment (1)...\\n')\n",
    "        elif experiment_number == 2:\n",
    "            df = pd.read_csv(\"experiment_2_randomised_data.csv\")\n",
    "            print('Preparing pre-randomised for experiment (2)... \\n')\n",
    "        else: \n",
    "            experiment_number == 3\n",
    "            df = pd.read_csv(\"experiment_3_randomised_data.csv\")\n",
    "            print('Preparing pre-randomised data for experiment (3)...\\n')\n",
    "\n",
    "    #If repeat is False, the data will be randomised\n",
    "    else:\n",
    "        #reading the correct combined data\n",
    "        if experiment_number == 1:\n",
    "            file = pd.read_csv(\"master_experiment_1.csv\")\n",
    "            print('Preparing data for experiment (1)...\\n')\n",
    "        elif experiment_number == 2:\n",
    "            file = pd.read_csv(\"master_experiment_2.csv\")\n",
    "            print('Preparing data for experiment (2)... \\n')\n",
    "        else: \n",
    "            experiment_number == 3\n",
    "            file = pd.read_csv(\"master_experiment_3.csv\")\n",
    "            print('Preparing data for experiment (3)...\\n')\n",
    "\n",
    "        #shuffling data randomly\n",
    "        idx = np.random.permutation(file.index)\n",
    "        df = file.reindex(idx, axis=0)\n",
    "        df = df.drop('Unnamed: 0', axis =1)\n",
    "        df = df.reset_index(drop=True)\n",
    "        df.to_csv(\"randomised_data.csv\")\n",
    "        df = pd.read_csv(\"randomised_data.csv\")\n",
    "    \n",
    "    df = df.drop('Unnamed: 0', axis =1)\n",
    "    \n",
    "    for i in range(1,folds + 1):\n",
    "        \n",
    "        #splitting into test and train based on k-folds\n",
    "        counter = int(len(df)/folds)\n",
    "        duration = start + counter\n",
    "        \n",
    "        trainset = df.drop(df.index[start:duration])\n",
    "        trainset = trainset.reset_index(drop=True)\n",
    "        \n",
    "        testset = df[start:duration]\n",
    "        testset = testset.reset_index(drop=True)\n",
    "        \n",
    "        start = start + counter\n",
    "        \n",
    "        #standardising data columns\n",
    "        for z in num_cols:\n",
    "\n",
    "            # fit on training data column\n",
    "            scale = preprocessing.StandardScaler().fit(trainset[[z]])\n",
    "            # transform the training data column\n",
    "            trainset[z] = scale.transform(trainset[[z]])\n",
    "            # transform the test data column\n",
    "            testset[z] = scale.transform(testset[[z]])\n",
    "\n",
    "        train_X = trainset[trainset.columns[0:3]]\n",
    "        train_Y = trainset[trainset.columns[3]]\n",
    "        test_X = testset[testset.columns[0:3]]\n",
    "        test_Y = testset[testset.columns[3]]\n",
    "\n",
    "        #identifying if multi-class or binary classification\n",
    "        if experiment_number == 2:\n",
    "            model_prepared = OneVsRestClassifier(model)\n",
    "        else: \n",
    "            model_prepared = model\n",
    "        \n",
    "        modelfit = model_prepared.fit(train_X,train_Y)    \n",
    "        prediction = modelfit.predict(test_X)    \n",
    "        modelaccuracy = metrics.accuracy_score(prediction,test_Y)\n",
    "        accuracy.append(modelaccuracy)\n",
    "        \n",
    "        #outputting confusion matrix per iteration if desired\n",
    "        if confused_matrix != '':\n",
    "            cm = metrics.confusion_matrix(test_Y, prediction)\n",
    "            if confused_matrix == 'normalised':\n",
    "                cm= (np.round(100*(cm / cm.astype(np.float).sum(axis=1)),2))\n",
    "            print('Confusion matrix, for iteration', i)\n",
    "            print(cm)\n",
    "            print('-'*90)\n",
    "    \n",
    "    #output mean accuracy and standard deviation\n",
    "    print('Mean score for %.f-fold cross validation'%folds, 'is %.2f' %round(Decimal(100*statistics.mean(accuracy)),2),'and standard deviation is %.3f' %round(Decimal(100*statistics.stdev(accuracy, xbar = statistics.mean(accuracy))),3))\n",
    "    print('-'*90)\n",
    "    print('Classifier:',model) "
   ]
  },
  {
   "cell_type": "markdown",
   "metadata": {},
   "source": [
    "#### 6.1. Experiment (1) \n",
    "Classifying between baseline and socially anxious states."
   ]
  },
  {
   "cell_type": "code",
   "execution_count": 313,
   "metadata": {},
   "outputs": [
    {
     "name": "stdout",
     "output_type": "stream",
     "text": [
      "Preparing pre-randomised data for experiment (1)...\n",
      "\n",
      "Mean score for 10-fold cross validation is 99.48 and standard deviation is 0.084\n",
      "------------------------------------------------------------------------------------------\n",
      "Classifier: SVC(C=1000, cache_size=200, class_weight=None, coef0=0.0,\n",
      "    decision_function_shape='ovr', degree=3, gamma=1, kernel='rbf', max_iter=-1,\n",
      "    probability=False, random_state=None, shrinking=True, tol=0.001,\n",
      "    verbose=False)\n"
     ]
    }
   ],
   "source": [
    "# 10-fold cross validation - Radial SVM\n",
    "cross_validation(experiment_number = 1, folds = 10, model = svm.SVC(kernel='rbf', C = 1000, gamma = 1), repeat = True)"
   ]
  },
  {
   "cell_type": "code",
   "execution_count": 6,
   "metadata": {},
   "outputs": [
    {
     "name": "stdout",
     "output_type": "stream",
     "text": [
      "Preparing pre-randomised data for experiment (1)...\n",
      "\n",
      "Mean score for 10-fold cross validation is 99.08 and standard deviation is 0.105\n",
      "------------------------------------------------------------------------------------------\n",
      "Classifier: KNeighborsClassifier(algorithm='auto', leaf_size=30, metric='minkowski',\n",
      "                     metric_params=None, n_jobs=None, n_neighbors=50, p=2,\n",
      "                     weights='uniform')\n"
     ]
    }
   ],
   "source": [
    "# 10-fold cross validation - k-Nearest Neighbour\n",
    "cross_validation(experiment_number = 1, folds = 10, model = KNeighborsClassifier(n_neighbors=50), repeat = True)"
   ]
  },
  {
   "cell_type": "code",
   "execution_count": 20,
   "metadata": {},
   "outputs": [
    {
     "name": "stdout",
     "output_type": "stream",
     "text": [
      "Preparing pre-randomised data for experiment (1)...\n",
      "\n",
      "Mean score for 10-fold cross validation is 97.54 and standard deviation is 0.287\n",
      "------------------------------------------------------------------------------------------\n",
      "Classifier: DecisionTreeClassifier(class_weight=None, criterion='gini', max_depth=8,\n",
      "                       max_features=None, max_leaf_nodes=None,\n",
      "                       min_impurity_decrease=0.0, min_impurity_split=None,\n",
      "                       min_samples_leaf=1, min_samples_split=2,\n",
      "                       min_weight_fraction_leaf=0.0, presort=False,\n",
      "                       random_state=None, splitter='best')\n"
     ]
    }
   ],
   "source": [
    "# 10-fold cross validation - Decision Tree\n",
    "cross_validation(experiment_number = 1, folds = 10, model = DecisionTreeClassifier(criterion = 'gini', max_depth = 8), repeat = True)"
   ]
  },
  {
   "cell_type": "code",
   "execution_count": 32,
   "metadata": {},
   "outputs": [
    {
     "name": "stdout",
     "output_type": "stream",
     "text": [
      "Preparing pre-randomised data for experiment (1)...\n",
      "\n",
      "Mean score for 10-fold cross validation is 97.95 and standard deviation is 0.324\n",
      "------------------------------------------------------------------------------------------\n",
      "Classifier: RandomForestClassifier(bootstrap=False, class_weight=None, criterion='gini',\n",
      "                       max_depth=8, max_features='auto', max_leaf_nodes=None,\n",
      "                       min_impurity_decrease=0.0, min_impurity_split=None,\n",
      "                       min_samples_leaf=1, min_samples_split=2,\n",
      "                       min_weight_fraction_leaf=0.0, n_estimators=400,\n",
      "                       n_jobs=None, oob_score=False, random_state=None,\n",
      "                       verbose=0, warm_start=False)\n"
     ]
    }
   ],
   "source": [
    "# 10-fold cross validation - Random Forest\n",
    "cross_validation(experiment_number = 1, folds = 10, model = RandomForestClassifier(n_estimators= 400, min_samples_split = 2, min_samples_leaf = 1, max_depth = 8, bootstrap = False), repeat = True)"
   ]
  },
  {
   "cell_type": "markdown",
   "metadata": {},
   "source": [
    "#### 6.2. Experiment (2)  \n",
    "Classifying between the three states, baseline, anticipation social anxiety and reactive social anxiety."
   ]
  },
  {
   "cell_type": "code",
   "execution_count": 319,
   "metadata": {},
   "outputs": [
    {
     "name": "stdout",
     "output_type": "stream",
     "text": [
      "Preparing pre-randomised for experiment (2)... \n",
      "\n",
      "Mean score for 10-fold cross validation is 98.10 and standard deviation is 0.134\n",
      "------------------------------------------------------------------------------------------\n",
      "Classifier: SVC(C=1000, cache_size=200, class_weight=None, coef0=0.0,\n",
      "    decision_function_shape='ovr', degree=3, gamma=1, kernel='rbf', max_iter=-1,\n",
      "    probability=False, random_state=None, shrinking=True, tol=0.001,\n",
      "    verbose=False)\n"
     ]
    }
   ],
   "source": [
    "# 10-fold cross validation - Radial SVM\n",
    "cross_validation(experiment_number = 2, folds = 10, model = svm.SVC(kernel='rbf', C = 1000, gamma = 1), repeat = True)"
   ]
  },
  {
   "cell_type": "code",
   "execution_count": 320,
   "metadata": {},
   "outputs": [
    {
     "name": "stdout",
     "output_type": "stream",
     "text": [
      "Preparing pre-randomised for experiment (2)... \n",
      "\n",
      "Mean score for 10-fold cross validation is 97.61 and standard deviation is 0.273\n",
      "------------------------------------------------------------------------------------------\n",
      "Classifier: KNeighborsClassifier(algorithm='auto', leaf_size=30, metric='minkowski',\n",
      "                     metric_params=None, n_jobs=None, n_neighbors=50, p=2,\n",
      "                     weights='uniform')\n"
     ]
    }
   ],
   "source": [
    "# 10-fold cross validation - k-Nearest Neighbour\n",
    "cross_validation(experiment_number = 2, folds = 10, model = KNeighborsClassifier(n_neighbors=50), repeat = True)"
   ]
  },
  {
   "cell_type": "code",
   "execution_count": 318,
   "metadata": {},
   "outputs": [
    {
     "name": "stdout",
     "output_type": "stream",
     "text": [
      "Preparing pre-randomised for experiment (2)... \n",
      "\n",
      "Mean score for 10-fold cross validation is 96.63 and standard deviation is 0.373\n",
      "------------------------------------------------------------------------------------------\n",
      "Classifier: DecisionTreeClassifier(class_weight=None, criterion='gini', max_depth=8,\n",
      "                       max_features=None, max_leaf_nodes=None,\n",
      "                       min_impurity_decrease=0.0, min_impurity_split=None,\n",
      "                       min_samples_leaf=1, min_samples_split=2,\n",
      "                       min_weight_fraction_leaf=0.0, presort=False,\n",
      "                       random_state=None, splitter='best')\n"
     ]
    }
   ],
   "source": [
    "# 10-fold cross validation - Decision Tree\n",
    "cross_validation(experiment_number = 2, folds = 10, model = DecisionTreeClassifier(criterion = 'gini', max_depth = 8), repeat = True)"
   ]
  },
  {
   "cell_type": "code",
   "execution_count": 13,
   "metadata": {},
   "outputs": [
    {
     "name": "stdout",
     "output_type": "stream",
     "text": [
      "Preparing pre-randomised for experiment (2)... \n",
      "\n",
      "Mean score for 10-fold cross validation is 95.21 and standard deviation is 0.398\n",
      "------------------------------------------------------------------------------------------\n",
      "Classifier: RandomForestClassifier(bootstrap=False, class_weight=None, criterion='gini',\n",
      "                       max_depth=8, max_features='auto', max_leaf_nodes=None,\n",
      "                       min_impurity_decrease=0.0, min_impurity_split=None,\n",
      "                       min_samples_leaf=1, min_samples_split=2,\n",
      "                       min_weight_fraction_leaf=0.0, n_estimators=400,\n",
      "                       n_jobs=None, oob_score=False, random_state=None,\n",
      "                       verbose=0, warm_start=False)\n"
     ]
    }
   ],
   "source": [
    "# 10-fold cross validation - Random Forest\n",
    "cross_validation(experiment_number = 2, folds = 10, model = RandomForestClassifier(n_estimators= 400, min_samples_split = 2, min_samples_leaf = 1, max_depth = 8,  bootstrap = False), repeat = True)"
   ]
  },
  {
   "cell_type": "markdown",
   "metadata": {},
   "source": [
    "#### 6.3. Experiment (3)  \n",
    "Classifying between marked and moderate social anxiety."
   ]
  },
  {
   "cell_type": "code",
   "execution_count": 326,
   "metadata": {},
   "outputs": [
    {
     "name": "stdout",
     "output_type": "stream",
     "text": [
      "Preparing pre-randomised data for experiment (3)...\n",
      "\n",
      "Mean score for 10-fold cross validation is 99.52 and standard deviation is 0.153\n",
      "------------------------------------------------------------------------------------------\n",
      "Classifier: SVC(C=1000, cache_size=200, class_weight=None, coef0=0.0,\n",
      "    decision_function_shape='ovr', degree=3, gamma=1, kernel='rbf', max_iter=-1,\n",
      "    probability=False, random_state=None, shrinking=True, tol=0.001,\n",
      "    verbose=False)\n"
     ]
    }
   ],
   "source": [
    "# 10-fold cross validation - Radial SVM\n",
    "cross_validation(experiment_number = 3, folds = 10, model = svm.SVC(kernel='rbf', C = 1000, gamma = 1), repeat =True)"
   ]
  },
  {
   "cell_type": "code",
   "execution_count": 327,
   "metadata": {},
   "outputs": [
    {
     "name": "stdout",
     "output_type": "stream",
     "text": [
      "Preparing pre-randomised data for experiment (3)...\n",
      "\n",
      "Mean score for 10-fold cross validation is 98.86 and standard deviation is 0.275\n",
      "------------------------------------------------------------------------------------------\n",
      "Classifier: KNeighborsClassifier(algorithm='auto', leaf_size=30, metric='minkowski',\n",
      "                     metric_params=None, n_jobs=None, n_neighbors=50, p=2,\n",
      "                     weights='uniform')\n"
     ]
    }
   ],
   "source": [
    "# 10-fold cross validation - k-Nearest Neighbour\n",
    "cross_validation(experiment_number = 3, folds = 10, model = KNeighborsClassifier(n_neighbors=50), repeat = True)"
   ]
  },
  {
   "cell_type": "code",
   "execution_count": 325,
   "metadata": {},
   "outputs": [
    {
     "name": "stdout",
     "output_type": "stream",
     "text": [
      "Preparing pre-randomised data for experiment (3)...\n",
      "\n",
      "Mean score for 10-fold cross validation is 99.04 and standard deviation is 0.321\n",
      "------------------------------------------------------------------------------------------\n",
      "Classifier: DecisionTreeClassifier(class_weight=None, criterion='gini', max_depth=8,\n",
      "                       max_features=None, max_leaf_nodes=None,\n",
      "                       min_impurity_decrease=0.0, min_impurity_split=None,\n",
      "                       min_samples_leaf=1, min_samples_split=2,\n",
      "                       min_weight_fraction_leaf=0.0, presort=False,\n",
      "                       random_state=None, splitter='best')\n"
     ]
    }
   ],
   "source": [
    "# 10-fold cross validation - Decision Tree\n",
    "cross_validation(experiment_number = 3, folds = 10, model = DecisionTreeClassifier(criterion = 'gini', max_depth = 8), repeat = True)"
   ]
  },
  {
   "cell_type": "code",
   "execution_count": 14,
   "metadata": {},
   "outputs": [
    {
     "name": "stdout",
     "output_type": "stream",
     "text": [
      "Preparing pre-randomised data for experiment (3)...\n",
      "\n",
      "Mean score for 10-fold cross validation is 99.34 and standard deviation is 0.144\n",
      "------------------------------------------------------------------------------------------\n",
      "Classifier: RandomForestClassifier(bootstrap=False, class_weight=None, criterion='gini',\n",
      "                       max_depth=8, max_features='auto', max_leaf_nodes=None,\n",
      "                       min_impurity_decrease=0.0, min_impurity_split=None,\n",
      "                       min_samples_leaf=1, min_samples_split=2,\n",
      "                       min_weight_fraction_leaf=0.0, n_estimators=400,\n",
      "                       n_jobs=None, oob_score=False, random_state=None,\n",
      "                       verbose=0, warm_start=False)\n"
     ]
    }
   ],
   "source": [
    "# 10-fold cross validation - Random Forest\n",
    "cross_validation(experiment_number = 3, folds = 10, model = RandomForestClassifier(n_estimators= 400, min_samples_split = 2, min_samples_leaf = 1, max_depth = 8, bootstrap = False), repeat = True)"
   ]
  },
  {
   "cell_type": "markdown",
   "metadata": {},
   "source": [
    "## 7. Direct Comparison Between Models\n",
    "\n",
    "Each of the cross validation accuracies from the various classification algorithms as well as the standard deviations were also directly compared. \n",
    "\n",
    "The following __compare_cv__ function retreives the data for the given experiment and randomises the dataset (however if the _repeat = True_ then a pre-randomised dataset will be retrieved). Then the data is split into 'k'-folds, with one fold as the test data and k-1 folds as training data. Following this the training data is standardised using [StandardScaler](https://scikit-learn.org/stable/modules/generated/sklearn.preprocessing.StandardScaler.html), the same transform is then applied to the test data. This procedure is repeated k times for each model in the _models_ list. The function then outputs the mean cross validation accuracy, time elapsed for each model and the standard deviation as well as a barchart or boxplots.\n",
    "\n",
    "#### Parameters for compare_cv function\n",
    "---\n",
    "__experiment_number__  _int, {1,2,3}, default=None_ <br/>\n",
    "The _experiment_number_ determines which ML experiment you are training models for. More details about each experiment can be found in the introduction. It is not an optional parameter.\n",
    "\n",
    "__folds__  _int, default=5_ <br/>\n",
    "The _folds_ is an integer that determines k in k-fold cross validation, therefore determines the number of folds. It's default value is 5.\n",
    "\n",
    "__repeat__  _boolean, default=False, optional_ <br/>\n",
    "When _repeat_ is set to _True_ then the function will retrieve the pre-randomised dataset for the chosen experiment, in order to reproduce the results within the report. When _repeat_ is set to _False_ the function will actively randomise a dataset combined earlier. It is an optional parameter.\n",
    "\n",
    "__visual__  _str,{'barchart','boxplot'}, default='boxplot', optional_ <br/>\n",
    "When _visual_ is set to _'barchart'_ then the function will output an barchart of the mean cross validation accuracies for each model. When _visual_ is set to _'boxplot'_ then a boxplot will be outputted indicating the cross validation accuracies for each model and standard deviation. It is an optional parameter."
   ]
  },
  {
   "cell_type": "code",
   "execution_count": 4,
   "metadata": {},
   "outputs": [],
   "source": [
    "def compare_cv(experiment_number=None, folds=5, repeat=False, visual = 'boxplot'):\n",
    "    \n",
    "    \"\"\"\n",
    "    Function: compare_cv\n",
    "    --------------------\n",
    "    \n",
    "    Summary\n",
    "    --------\n",
    "    \n",
    "    The following function performs k-fold cross validation and outputs the mean cross validation \n",
    "    accuracies and standard deviation of accuracies from models created from a selection of classifiers \n",
    "    (SVM, KNN, Decision Tree and Random Forest). The outputs include a dataframe of mean accuracies, standard \n",
    "    deviation, time elapsed and either a boxplot or barchart.\n",
    "    \n",
    "    Procedure\n",
    "    ---------\n",
    "    \n",
    "    The function first retrieves pre-randomised data or actively randomises dataset. \n",
    "    The randomised data is then split into k-folds with one fold for testing and k-1 folds for training.\n",
    "    Both the train and test data are scaled using StandardScaler.\n",
    "    A model is then trained using inputted classifier and train dataset.\n",
    "    The trained model is then evaluated using the test data.\n",
    "    This procedure is repeated k times for each model in the 'models' list.\n",
    "    The function then outputs the mean cross validation accuracy and the standard deviation for each model.\n",
    "    A barchart or boxplot of the mean cross validation accuracies for each model may also be outputted.\n",
    "    \n",
    "    \"\"\"\n",
    "    \n",
    "    cv_result = []\n",
    "    std = []\n",
    "    timed = []\n",
    "    num_cols = ['0','1','2']\n",
    "    akws = {'va': 'bottom','size': '12', 'color' : 'r'}\n",
    "    accuracylist =[[],[],[],[]]\n",
    "    iteration = 0\n",
    "    \n",
    "    #Classifiers explored\n",
    "    classifiers=['SVM','KNN','Decision Tree','Random Forest']\n",
    "    models=[svm.SVC(kernel='rbf', C = 1000, gamma = 1),KNeighborsClassifier(n_neighbors=50),DecisionTreeClassifier(criterion = 'gini', max_depth = 8),RandomForestClassifier(n_estimators= 400, min_samples_split = 2, min_samples_leaf = 1, max_depth = 8, bootstrap = False)]\n",
    "    \n",
    "    #Output error messages to improve interaction \n",
    "    if experiment_number == None or experiment_number < 1 or experiment_number > 3:\n",
    "        print('Error: please input experiment number between 1 and 3 e.g. experiment_number = 1')\n",
    "        return\n",
    "    if folds <  2:\n",
    "        print('Error: please input more than folds > 1. If you would like to split 67% train and 33% test use function \"split_train_test\"')\n",
    "        return\n",
    "    \n",
    "    #If repeat is True, a previously randomised dataset will be used\n",
    "    if repeat == True:\n",
    "        #reading the correct combined preprocessed data\n",
    "        if experiment_number == 1:\n",
    "            df = pd.read_csv(\"experiment_1_randomised_data.csv\")\n",
    "            print('Preparing pre-randomised data for experiment (1)...\\n')\n",
    "        elif experiment_number == 2:\n",
    "            df = pd.read_csv(\"experiment_2_randomised_data.csv\")\n",
    "            print('Preparing pre-randomised for experiment (2)... \\n')\n",
    "        else: \n",
    "            experiment_number == 3\n",
    "            df = pd.read_csv(\"experiment_3_randomised_data.csv\")\n",
    "            print('Preparing pre-randomised data for experiment (3)...\\n')\n",
    "\n",
    "    #If repeat is False, the data will be randomised\n",
    "    else:\n",
    "        #reading the correct combined data\n",
    "        if experiment_number == 1:\n",
    "            file = pd.read_csv(\"master_experiment_1.csv\")\n",
    "            print('Preparing data for experiment (1)...\\n')\n",
    "        elif experiment_number == 2:\n",
    "            file = pd.read_csv(\"master_experiment_2.csv\")\n",
    "            print('Preparing data for experiment (2)... \\n')\n",
    "        else: \n",
    "            experiment_number == 3\n",
    "            file = pd.read_csv(\"master_experiment_3.csv\")\n",
    "            print('Preparing data for experiment (3)...\\n')\n",
    "\n",
    "        #shuffling data randomly\n",
    "        idx = np.random.permutation(file.index)\n",
    "        df = file.reindex(idx, axis=0)\n",
    "        df = df.drop('Unnamed: 0', axis =1)\n",
    "        df = df.reset_index(drop=True)\n",
    "        df.to_csv(\"randomised_data.csv\")\n",
    "\n",
    "        #splitting into test and train\n",
    "        df = pd.read_csv(\"randomised_data.csv\")\n",
    "    \n",
    "    df = df.drop('Unnamed: 0', axis =1)\n",
    "    \n",
    "    #iterating through various models\n",
    "    for y in models:\n",
    "        model = y\n",
    "        accuracy=[]\n",
    "        start = 0\n",
    "        iteration = iteration + 1\n",
    "        \n",
    "        #start timer\n",
    "        t0 = time.time()\n",
    "    \n",
    "        for i in range(1,folds + 1):\n",
    "\n",
    "            #splitting into test and train based on k-folds\n",
    "            counter = int(len(df)/folds)\n",
    "            duration = start + counter\n",
    "            \n",
    "            trainset = df.drop(df.index[start:duration])\n",
    "            trainset = trainset.reset_index(drop=True)\n",
    "            \n",
    "            testset = df[start:duration]\n",
    "            testset = testset.reset_index(drop=True)\n",
    "            \n",
    "            start = start + counter\n",
    "            \n",
    "            #standardising data columns\n",
    "            for z in num_cols:\n",
    "\n",
    "                # fit on training data column\n",
    "                scale = preprocessing.StandardScaler().fit(trainset[[z]])\n",
    "                # transform the training data column\n",
    "                trainset[z] = scale.transform(trainset[[z]])\n",
    "                # transform the test data column\n",
    "                testset[z] = scale.transform(testset[[z]])\n",
    "\n",
    "            train_X = trainset[trainset.columns[0:3]]\n",
    "            train_Y = trainset[trainset.columns[3]]\n",
    "            test_X = testset[testset.columns[0:3]]\n",
    "            test_Y = testset[testset.columns[3]]\n",
    "            \n",
    "            #identifying if multi-class or binary classification\n",
    "            if experiment_number == 2:\n",
    "                model_prepared = OneVsRestClassifier(model)\n",
    "            else: \n",
    "                model_prepared = model\n",
    "\n",
    "            #fitting model    \n",
    "            modelfit = model_prepared.fit(train_X,train_Y)\n",
    "            prediction = modelfit.predict(test_X)\n",
    "            modelaccuracy = metrics.accuracy_score(prediction,test_Y)\n",
    "            accuracy.append(modelaccuracy)\n",
    "            accuracylist[iteration-1].append(100*modelaccuracy)\n",
    "        \n",
    "        #store accuracies and standard deviation\n",
    "        accuracy_result = 100*statistics.mean(accuracy)\n",
    "        cv_result.append(accuracy_result)\n",
    "        std.append(100*statistics.stdev(accuracy, xbar = statistics.mean(accuracy)))\n",
    "\n",
    "        #end timer and store elapsed time\n",
    "        elapsedtime = time.time() - t0\n",
    "        timed.append(round(elapsedtime))\n",
    "    \n",
    "    #outputting mean cross validation accuracies and standard deviations\n",
    "    new_models_dataframe2=pd.DataFrame({'Mean Cross Validation Accuracy':cv_result,'Standard Deviation':std,'Time Elapsed (sec)': timed},index=classifiers)\n",
    "    plt.rcParams['axes.facecolor'] = 'ghostwhite'\n",
    "    #outputting boxplot or barchart of results\n",
    "    if visual == 'boxplot':\n",
    "        plt.subplots(figsize=(12,6))\n",
    "        box=pd.DataFrame(accuracylist, index=[classifiers])\n",
    "        plt.ylabel('Accuracy(%)')\n",
    "        box.T.boxplot()\n",
    "    else:\n",
    "        new_models_dataframe2['Mean Cross Validation Accuracy'].plot.barh( color = 'indigo', xerr=std, capsize = 12)\n",
    "        plt.xlabel('Accuracy(%)')\n",
    "        fig=plt.gcf()\n",
    "        fig.set_size_inches(12,4)\n",
    "    \n",
    "    plt.title('Mean Cross Validation Accuracies')\n",
    "    plt.show()\n",
    "    \n",
    "    return new_models_dataframe2     "
   ]
  },
  {
   "cell_type": "markdown",
   "metadata": {},
   "source": [
    "#### 7.1. Experiment (1)  \n",
    "Classifying between baseline and socially anxious states."
   ]
  },
  {
   "cell_type": "code",
   "execution_count": 3,
   "metadata": {},
   "outputs": [
    {
     "name": "stdout",
     "output_type": "stream",
     "text": [
      "Preparing pre-randomised data for experiment (1)...\n",
      "\n"
     ]
    },
    {
     "data": {
      "image/png": "[encoded data removed]",
      "text/plain": [
       "<Figure size 864x432 with 1 Axes>"
      ]
     },
     "metadata": {
      "needs_background": "light"
     },
     "output_type": "display_data"
    },
    {
     "data": {
      "text/html": [
       "<div>\n",
       "<style scoped>\n",
       "    .dataframe tbody tr th:only-of-type {\n",
       "        vertical-align: middle;\n",
       "    }\n",
       "\n",
       "    .dataframe tbody tr th {\n",
       "        vertical-align: top;\n",
       "    }\n",
       "\n",
       "    .dataframe thead th {\n",
       "        text-align: right;\n",
       "    }\n",
       "</style>\n",
       "<table border=\"1\" class=\"dataframe\">\n",
       "  <thead>\n",
       "    <tr style=\"text-align: right;\">\n",
       "      <th></th>\n",
       "      <th>Mean Cross Validation Accuracy</th>\n",
       "      <th>Standard Deviation</th>\n",
       "      <th>Time Elapsed (sec)</th>\n",
       "    </tr>\n",
       "  </thead>\n",
       "  <tbody>\n",
       "    <tr>\n",
       "      <td>SVM</td>\n",
       "      <td>99.475496</td>\n",
       "      <td>0.083933</td>\n",
       "      <td>116</td>\n",
       "    </tr>\n",
       "    <tr>\n",
       "      <td>KNN</td>\n",
       "      <td>99.078840</td>\n",
       "      <td>0.105037</td>\n",
       "      <td>3</td>\n",
       "    </tr>\n",
       "    <tr>\n",
       "      <td>Decision Tree</td>\n",
       "      <td>97.536469</td>\n",
       "      <td>0.288284</td>\n",
       "      <td>1</td>\n",
       "    </tr>\n",
       "    <tr>\n",
       "      <td>Random Forest</td>\n",
       "      <td>97.910179</td>\n",
       "      <td>0.263189</td>\n",
       "      <td>183</td>\n",
       "    </tr>\n",
       "  </tbody>\n",
       "</table>\n",
       "</div>"
      ],
      "text/plain": [
       "               Mean Cross Validation Accuracy  Standard Deviation  \\\n",
       "SVM                                 99.475496            0.083933   \n",
       "KNN                                 99.078840            0.105037   \n",
       "Decision Tree                       97.536469            0.288284   \n",
       "Random Forest                       97.910179            0.263189   \n",
       "\n",
       "               Time Elapsed (sec)  \n",
       "SVM                           116  \n",
       "KNN                             3  \n",
       "Decision Tree                   1  \n",
       "Random Forest                 183  "
      ]
     },
     "execution_count": 3,
     "metadata": {},
     "output_type": "execute_result"
    }
   ],
   "source": [
    "#Compare models created for experiment 1, using 10-folds\n",
    "compare_cv(experiment_number= 1, folds = 10, repeat=True)"
   ]
  },
  {
   "cell_type": "markdown",
   "metadata": {},
   "source": [
    "#### 7.2. Experiment (2)  \n",
    "Classifying between the three states, baseline, anticipation social anxiety and reactive social anxiety."
   ]
  },
  {
   "cell_type": "code",
   "execution_count": 4,
   "metadata": {},
   "outputs": [
    {
     "name": "stdout",
     "output_type": "stream",
     "text": [
      "Preparing pre-randomised for experiment (2)... \n",
      "\n"
     ]
    },
    {
     "data": {
      "image/png": "[encoded data removed]",
      "text/plain": [
       "<Figure size 864x432 with 1 Axes>"
      ]
     },
     "metadata": {
      "needs_background": "light"
     },
     "output_type": "display_data"
    },
    {
     "data": {
      "text/html": [
       "<div>\n",
       "<style scoped>\n",
       "    .dataframe tbody tr th:only-of-type {\n",
       "        vertical-align: middle;\n",
       "    }\n",
       "\n",
       "    .dataframe tbody tr th {\n",
       "        vertical-align: top;\n",
       "    }\n",
       "\n",
       "    .dataframe thead th {\n",
       "        text-align: right;\n",
       "    }\n",
       "</style>\n",
       "<table border=\"1\" class=\"dataframe\">\n",
       "  <thead>\n",
       "    <tr style=\"text-align: right;\">\n",
       "      <th></th>\n",
       "      <th>Mean Cross Validation Accuracy</th>\n",
       "      <th>Standard Deviation</th>\n",
       "      <th>Time Elapsed (sec)</th>\n",
       "    </tr>\n",
       "  </thead>\n",
       "  <tbody>\n",
       "    <tr>\n",
       "      <td>SVM</td>\n",
       "      <td>98.102454</td>\n",
       "      <td>0.133547</td>\n",
       "      <td>752</td>\n",
       "    </tr>\n",
       "    <tr>\n",
       "      <td>KNN</td>\n",
       "      <td>97.609949</td>\n",
       "      <td>0.273478</td>\n",
       "      <td>3</td>\n",
       "    </tr>\n",
       "    <tr>\n",
       "      <td>Decision Tree</td>\n",
       "      <td>96.633174</td>\n",
       "      <td>0.373053</td>\n",
       "      <td>3</td>\n",
       "    </tr>\n",
       "    <tr>\n",
       "      <td>Random Forest</td>\n",
       "      <td>95.101301</td>\n",
       "      <td>0.287530</td>\n",
       "      <td>558</td>\n",
       "    </tr>\n",
       "  </tbody>\n",
       "</table>\n",
       "</div>"
      ],
      "text/plain": [
       "               Mean Cross Validation Accuracy  Standard Deviation  \\\n",
       "SVM                                 98.102454            0.133547   \n",
       "KNN                                 97.609949            0.273478   \n",
       "Decision Tree                       96.633174            0.373053   \n",
       "Random Forest                       95.101301            0.287530   \n",
       "\n",
       "               Time Elapsed (sec)  \n",
       "SVM                           752  \n",
       "KNN                             3  \n",
       "Decision Tree                   3  \n",
       "Random Forest                 558  "
      ]
     },
     "execution_count": 4,
     "metadata": {},
     "output_type": "execute_result"
    }
   ],
   "source": [
    "#Compare models created for experiment 2, using 10-folds\n",
    "compare_cv(experiment_number = 2, folds = 10, repeat=True)"
   ]
  },
  {
   "cell_type": "markdown",
   "metadata": {},
   "source": [
    "#### 7.3. Experiment (3)  \n",
    "Classifying between marked and moderate social anxiety."
   ]
  },
  {
   "cell_type": "code",
   "execution_count": 5,
   "metadata": {},
   "outputs": [
    {
     "name": "stdout",
     "output_type": "stream",
     "text": [
      "Preparing pre-randomised data for experiment (3)...\n",
      "\n"
     ]
    },
    {
     "data": {
      "image/png": "[encoded data removed]",
      "text/plain": [
       "<Figure size 864x432 with 1 Axes>"
      ]
     },
     "metadata": {
      "needs_background": "light"
     },
     "output_type": "display_data"
    },
    {
     "data": {
      "text/html": [
       "<div>\n",
       "<style scoped>\n",
       "    .dataframe tbody tr th:only-of-type {\n",
       "        vertical-align: middle;\n",
       "    }\n",
       "\n",
       "    .dataframe tbody tr th {\n",
       "        vertical-align: top;\n",
       "    }\n",
       "\n",
       "    .dataframe thead th {\n",
       "        text-align: right;\n",
       "    }\n",
       "</style>\n",
       "<table border=\"1\" class=\"dataframe\">\n",
       "  <thead>\n",
       "    <tr style=\"text-align: right;\">\n",
       "      <th></th>\n",
       "      <th>Mean Cross Validation Accuracy</th>\n",
       "      <th>Standard Deviation</th>\n",
       "      <th>Time Elapsed (sec)</th>\n",
       "    </tr>\n",
       "  </thead>\n",
       "  <tbody>\n",
       "    <tr>\n",
       "      <td>SVM</td>\n",
       "      <td>99.515</td>\n",
       "      <td>0.152843</td>\n",
       "      <td>8</td>\n",
       "    </tr>\n",
       "    <tr>\n",
       "      <td>KNN</td>\n",
       "      <td>98.860</td>\n",
       "      <td>0.274672</td>\n",
       "      <td>1</td>\n",
       "    </tr>\n",
       "    <tr>\n",
       "      <td>Decision Tree</td>\n",
       "      <td>99.040</td>\n",
       "      <td>0.321282</td>\n",
       "      <td>0</td>\n",
       "    </tr>\n",
       "    <tr>\n",
       "      <td>Random Forest</td>\n",
       "      <td>99.340</td>\n",
       "      <td>0.150555</td>\n",
       "      <td>51</td>\n",
       "    </tr>\n",
       "  </tbody>\n",
       "</table>\n",
       "</div>"
      ],
      "text/plain": [
       "               Mean Cross Validation Accuracy  Standard Deviation  \\\n",
       "SVM                                    99.515            0.152843   \n",
       "KNN                                    98.860            0.274672   \n",
       "Decision Tree                          99.040            0.321282   \n",
       "Random Forest                          99.340            0.150555   \n",
       "\n",
       "               Time Elapsed (sec)  \n",
       "SVM                             8  \n",
       "KNN                             1  \n",
       "Decision Tree                   0  \n",
       "Random Forest                  51  "
      ]
     },
     "execution_count": 5,
     "metadata": {},
     "output_type": "execute_result"
    }
   ],
   "source": [
    "#Compare models created for experiment 3, using 10-folds\n",
    "compare_cv(experiment_number = 3,folds = 10, repeat=True)"
   ]
  },
  {
   "cell_type": "markdown",
   "metadata": {},
   "source": [
    "## 8.Exploring Feature Combinations\n",
    "\n",
    "Different features and feature combinations were explored for each of the classification algorithms.\n",
    "\n",
    "The following __feature_combination_cv__ function retreives the data for the given experiment and randomises the dataset (however if the _repeat = True_ then a pre-randomised dataset will be retrieved). From the datasets, the columns with the selected modality/modalities are extracted. Then the data is split into 'k'-folds, with one fold as the test data and k-1 folds as training data. Following this the training data is standardised using [StandardScaler](https://scikit-learn.org/stable/modules/generated/sklearn.preprocessing.StandardScaler.html), the same transform is then applied to the test data. This procedure is repeated k times for each model in the _models_ list. The function then outputs the mean cross validation accuracy, time elapsed for each model and the standard deviation as well as a barchart or boxplots.\n",
    "\n",
    "\n",
    "#### Parameters for feature_combination_cv function\n",
    "---\n",
    "__experiment_number__  _int, {1,2,3}, default=None_ <br/>\n",
    "The _experiment_number_ determines which ML experiment you are training models for. More details about each experiment can be found in the introduction. It is not an optional parameter.\n",
    "\n",
    "__folds__  _int, default=5_ <br/>\n",
    "The _folds_ is an integer that determines k in k-fold cross validation, therefore determines the number of folds. It's default value is 5.\n",
    "\n",
    "__modality__ _str, {'HR','ST,'EDA'}, default = None_ <br/>\n",
    "The _modality_ determines the modality/feature that you are investigating, the choice of modalities include HR, ST and EDA. It is not an optional parameter.\n",
    "\n",
    "__modality_2__ _str, {'HR','ST,'EDA'}, default = None, optional_ <br/>\n",
    "The _modality_2_ determines the second modality/feature that you are investigating therefore the function would investigation the combination of _modality_ and _modality_2_.The choice of modalities include HR, ST and EDA, however _modality_2_ must not equal _modality_.It is an optional parameter.\n",
    "\n",
    "__repeat__  _boolean, default=False, optional_ <br/>\n",
    "When _repeat_ is set to _True_ then the function will retrieve the pre-randomised dataset for the chosen experiment, in order to reproduce the results within the report. When _repeat_ is set to _False_ the function will actively randomise a dataset combined earlier. Please note that the Random Forest results may not reproduce the exact same results due to it's randomness [(Muller and Guido)](https://www.amazon.co.uk/Introduction-Machine-Learning-Python-Sarah/dp/1449369413). It is an optional parameter.\n",
    "\n",
    "__visual__  _str,{'barchart','boxplot'}, default='barchart', optional_ <br/>\n",
    "When _visual_ is set to _'barchart'_ then the function will output an barchart of the mean cross validation accuracies for each model. When _visual_ is set to _'boxplot'_ then a boxplot will be outputted indicating the cross validation accuracies for each model and standard deviation. It is an optional parameter."
   ]
  },
  {
   "cell_type": "code",
   "execution_count": 5,
   "metadata": {},
   "outputs": [],
   "source": [
    "def feature_combination_cv(experiment_number = None, folds = 5, modality = None, modality_2 = None, repeat=False, visual = 'barchart'):\n",
    "    \n",
    "    \"\"\"\n",
    "    Function: feature_combination_cv\n",
    "    --------------------------------\n",
    "    \n",
    "    Summary\n",
    "    --------\n",
    "    \n",
    "    The following function allows different modalities and modality combinations to be explored.\n",
    "    After extracting the specified modalities, k-fold cross validation is performed and the function\n",
    "    outputs the mean cross validation accuracies and standard deviation of accuracies from models \n",
    "    created from a selection of classifiers (SVM, KNN, Decision Tree and Random Forest). The outputs \n",
    "    include a dataframe of mean accuracies, standard deviation, time elapsed and either a boxplot or barchart.\n",
    "    \n",
    "    Procedure\n",
    "    ---------\n",
    "    \n",
    "    The function first retrieves pre-randomised data or actively randomises dataset. \n",
    "    From the datasets, the columns with the selected modality/modalities are extracted.\n",
    "    The randomised data is then split into k-folds with one fold for testing and k-1 folds for training.\n",
    "    Both the train and test data are scaled using StandardScaler.\n",
    "    A model is then trained using inputted classifier and train dataset.\n",
    "    The trained model is then evaluated using the test data.\n",
    "    This procedure is repeated k times for each model in the 'models' list.\n",
    "    The function then outputs the mean cross validation accuracy and the standard deviation for each model.\n",
    "    A barchart or boxplot of the mean cross validation accuracies for each model may also be outputted.\n",
    "    \n",
    "    \"\"\"\n",
    "    \n",
    "    cv_result = []\n",
    "    std = []\n",
    "    timed = []\n",
    "    num_cols = ['0','1','2']\n",
    "    akws = {'va': 'bottom','size': '12', 'color' : 'r'}\n",
    "    accuracylist =[[],[],[],[]]\n",
    "    iteration = 0\n",
    "    \n",
    "    #Classifiers explored\n",
    "    classifiers=['SVM','KNN','Decision Tree','Random Forest']\n",
    "    models=[svm.SVC(kernel='rbf', C = 1000, gamma = 1),KNeighborsClassifier(n_neighbors=50),DecisionTreeClassifier(criterion = 'gini', max_depth = 8),RandomForestClassifier(n_estimators= 400, min_samples_split = 2, min_samples_leaf = 1, max_depth = 8, bootstrap = False)]\n",
    "\n",
    "    #Output error messages to improve interaction \n",
    "    if experiment_number == None or experiment_number < 1 or experiment_number > 3:\n",
    "        print('Error: please input experiment number between 1 and 3')\n",
    "        return\n",
    "    if folds <  2:\n",
    "        print('Error: please input more than folds > 1. If you would like to split 67% train and 33% test use function \"split_train_test\"')\n",
    "        return\n",
    "    if modality == modality_2:\n",
    "        print('Error: please input different modalities')\n",
    "        return\n",
    "    \n",
    "    #setting the modality/modalities to be investigated\n",
    "    if modality == 'HR':\n",
    "        modality1 = '0'\n",
    "    elif modality == 'ST':\n",
    "        modality1 = '1'\n",
    "    elif modality == 'EDA': \n",
    "        modality1 = '2'\n",
    "    else:\n",
    "        print('Error: the modality you inputted is not recognised')\n",
    "        return\n",
    "    \n",
    "    if modality_2 != None:\n",
    "        if modality_2 == 'HR':\n",
    "            modality2 = '0'\n",
    "        elif modality_2 == 'ST':\n",
    "            modality2 = '1'\n",
    "        elif modality_2 == 'EDA': \n",
    "            modality2 = '2'\n",
    "        else:\n",
    "            print('Error: the second modality you inputted is not recognised')\n",
    "            return\n",
    "    \n",
    "    if modality_2 == None:\n",
    "        modality_index = [modality1]\n",
    "    else:\n",
    "        modality_index = [modality1, modality2]\n",
    "    \n",
    "    #If repeat is True, a previously randomised dataset will be used\n",
    "    if repeat == True:\n",
    "        #reading the correct combined preprocessed data\n",
    "        if experiment_number == 1:\n",
    "            df = pd.read_csv(\"experiment_1_randomised_data.csv\")\n",
    "            print('Preparing pre-randomised data for experiment (1)...\\n')\n",
    "        elif experiment_number == 2:\n",
    "            df = pd.read_csv(\"experiment_2_randomised_data.csv\")\n",
    "            print('Preparing pre-randomised for experiment (2)... \\n')\n",
    "        else: \n",
    "            experiment_number == 3\n",
    "            df = pd.read_csv(\"experiment_3_randomised_data.csv\")\n",
    "            print('Preparing pre-randomised data for experiment (3)...\\n')\n",
    "\n",
    "    #If repeat is False, the data will be randomised\n",
    "    else:\n",
    "        #reading the correct combined data\n",
    "        if experiment_number == 1:\n",
    "            file = pd.read_csv(\"master_experiment_1.csv\")\n",
    "            print('Preparing data for experiment (1)...\\n')\n",
    "        elif experiment_number == 2:\n",
    "            file = pd.read_csv(\"master_experiment_2.csv\")\n",
    "            print('Preparing data for experiment (2)... \\n')\n",
    "        else: \n",
    "            experiment_number == 3\n",
    "            file = pd.read_csv(\"master_experiment_3.csv\")\n",
    "            print('Preparing data for experiment (3)...\\n')\n",
    "\n",
    "        #shuffling data randomly\n",
    "        idx = np.random.permutation(file.index)\n",
    "        df = file.reindex(idx, axis=0)\n",
    "        df = df.drop('Unnamed: 0', axis =1)\n",
    "        df = df.reset_index(drop=True)\n",
    "        df.to_csv(\"randomised_data.csv\")\n",
    "\n",
    "        #splitting into test and train\n",
    "        df = pd.read_csv(\"randomised_data.csv\")\n",
    "    \n",
    "    df = df.drop('Unnamed: 0', axis =1)\n",
    "    \n",
    "    #iterating through various models\n",
    "    for y in models:\n",
    "        model = y\n",
    "        accuracy=[]\n",
    "        start = 0\n",
    "        iteration = iteration + 1\n",
    "        \n",
    "        #start timer\n",
    "        t0 = time.time()\n",
    "\n",
    "        for i in range(1,folds + 1):\n",
    "            \n",
    "            #splitting into test and train based on k-folds\n",
    "            counter = int(len(df)/folds)\n",
    "            duration = start + counter\n",
    "            \n",
    "            #only include modality/modalities column and target column\n",
    "            if modality_2 != None :\n",
    "                df = df.loc[:, [modality1, modality2, '3']] \n",
    "            else:\n",
    "                df = df.loc[:, [modality1, '3']] \n",
    "                \n",
    "            trainset = df.drop(df.index[start:duration])\n",
    "            trainset = trainset.reset_index(drop=True)\n",
    "            \n",
    "            testset = df[start:duration]\n",
    "            testset = testset.reset_index(drop=True)\n",
    "            \n",
    "            start = start + counter\n",
    "            \n",
    "            #standardising data columns\n",
    "            for z in modality_index :\n",
    "\n",
    "                # fit on training data column\n",
    "                scale = preprocessing.StandardScaler().fit(trainset[[z]])\n",
    "                # transform the training data column\n",
    "                trainset[z] = scale.transform(trainset[[z]])\n",
    "                # transform the test data column\n",
    "                testset[z] = scale.transform(testset[[z]])\n",
    "                \n",
    "            train_X = trainset[trainset.columns[0:len(modality_index)]]\n",
    "            train_Y = trainset[trainset.columns[len(modality_index)]]\n",
    "            test_X = testset[testset.columns[0:len(modality_index)]]\n",
    "            test_Y = testset[testset.columns[len(modality_index)]]\n",
    "            \n",
    "            #identifying if multi-class or binary classification\n",
    "            if experiment_number == 2:\n",
    "                model_prepared = OneVsRestClassifier(model)\n",
    "            else: \n",
    "                model_prepared = model\n",
    "\n",
    "            #fitting model    \n",
    "            modelfit = model_prepared.fit(train_X,train_Y)\n",
    "            prediction = modelfit.predict(test_X)\n",
    "            modelaccuracy = metrics.accuracy_score(prediction,test_Y)\n",
    "            accuracy.append(modelaccuracy)\n",
    "            accuracylist[iteration-1].append(100*modelaccuracy)\n",
    "        \n",
    "        #store accuracies and standard deviation\n",
    "        accuracy_result = 100*statistics.mean(accuracy)\n",
    "        cv_result.append(accuracy_result)\n",
    "        std.append(100*statistics.stdev(accuracy, xbar = statistics.mean(accuracy)))\n",
    "        \n",
    "        #end timer and storing elapsed time\n",
    "        elapsedtime = time.time() - t0\n",
    "        timed.append(round(elapsedtime))\n",
    "    \n",
    "    #outputting mean cross validation accuracies and standard deviations\n",
    "    new_models_dataframe2=pd.DataFrame({'Mean Cross Validation Accuracy':cv_result,'Standard Deviation':std,'Time Elapsed (sec)': timed},index=classifiers)\n",
    "    \n",
    "    #outputting boxplot or barchart of results\n",
    "    plt.rcParams['axes.facecolor'] = 'ghostwhite'\n",
    "    if visual == 'boxplot':\n",
    "        plt.subplots(figsize=(12,6))\n",
    "        plt.ylabel('Accuracy(%)')\n",
    "        box=pd.DataFrame(accuracylist, index=[classifiers])\n",
    "        box.T.boxplot()\n",
    "    else:\n",
    "        new_models_dataframe2['Mean Cross Validation Accuracy'].plot.barh( color = 'indigo', xerr=std, capsize = 12)\n",
    "        plt.xlabel('Accuracy(%)')\n",
    "        fig=plt.gcf()\n",
    "        fig.set_size_inches(12,4)\n",
    "        \n",
    "   #outputting appropriate plot title\n",
    "    if modality_2 != None:\n",
    "        plt.title('Mean Cross Validation Accuracies with ' + modality + ' & '+ modality_2)\n",
    "    else:\n",
    "        plt.title('Mean Cross Validation Accuracies with Singular Modality ' + modality )    \n",
    "    plt.show()\n",
    "    \n",
    "    return new_models_dataframe2     "
   ]
  },
  {
   "cell_type": "markdown",
   "metadata": {},
   "source": [
    "#### 8.1. Experiment (1)  \n",
    "Classifying between baseline and socially anxious states, using different modality combinations."
   ]
  },
  {
   "cell_type": "code",
   "execution_count": 7,
   "metadata": {},
   "outputs": [
    {
     "name": "stdout",
     "output_type": "stream",
     "text": [
      "Preparing pre-randomised data for experiment (1)...\n",
      "\n"
     ]
    },
    {
     "data": {
      "image/png": "[encoded data removed]",
      "text/plain": [
       "<Figure size 864x288 with 1 Axes>"
      ]
     },
     "metadata": {
      "needs_background": "light"
     },
     "output_type": "display_data"
    },
    {
     "data": {
      "text/html": [
       "<div>\n",
       "<style scoped>\n",
       "    .dataframe tbody tr th:only-of-type {\n",
       "        vertical-align: middle;\n",
       "    }\n",
       "\n",
       "    .dataframe tbody tr th {\n",
       "        vertical-align: top;\n",
       "    }\n",
       "\n",
       "    .dataframe thead th {\n",
       "        text-align: right;\n",
       "    }\n",
       "</style>\n",
       "<table border=\"1\" class=\"dataframe\">\n",
       "  <thead>\n",
       "    <tr style=\"text-align: right;\">\n",
       "      <th></th>\n",
       "      <th>Mean Cross Validation Accuracy</th>\n",
       "      <th>Standard Deviation</th>\n",
       "      <th>Time Elapsed (sec)</th>\n",
       "    </tr>\n",
       "  </thead>\n",
       "  <tbody>\n",
       "    <tr>\n",
       "      <td>SVM</td>\n",
       "      <td>63.637109</td>\n",
       "      <td>0.568173</td>\n",
       "      <td>9636</td>\n",
       "    </tr>\n",
       "    <tr>\n",
       "      <td>KNN</td>\n",
       "      <td>68.183904</td>\n",
       "      <td>0.443894</td>\n",
       "      <td>3</td>\n",
       "    </tr>\n",
       "    <tr>\n",
       "      <td>Decision Tree</td>\n",
       "      <td>67.720046</td>\n",
       "      <td>0.496628</td>\n",
       "      <td>1</td>\n",
       "    </tr>\n",
       "    <tr>\n",
       "      <td>Random Forest</td>\n",
       "      <td>67.720046</td>\n",
       "      <td>0.496628</td>\n",
       "      <td>269</td>\n",
       "    </tr>\n",
       "  </tbody>\n",
       "</table>\n",
       "</div>"
      ],
      "text/plain": [
       "               Mean Cross Validation Accuracy  Standard Deviation  \\\n",
       "SVM                                 63.637109            0.568173   \n",
       "KNN                                 68.183904            0.443894   \n",
       "Decision Tree                       67.720046            0.496628   \n",
       "Random Forest                       67.720046            0.496628   \n",
       "\n",
       "               Time Elapsed (sec)  \n",
       "SVM                          9636  \n",
       "KNN                             3  \n",
       "Decision Tree                   1  \n",
       "Random Forest                 269  "
      ]
     },
     "execution_count": 7,
     "metadata": {},
     "output_type": "execute_result"
    }
   ],
   "source": [
    "#Experiment 1 - HR\n",
    "feature_combination_cv(experiment_number = 1, folds = 10, modality = 'HR', repeat=True)"
   ]
  },
  {
   "cell_type": "code",
   "execution_count": 8,
   "metadata": {},
   "outputs": [
    {
     "name": "stdout",
     "output_type": "stream",
     "text": [
      "Preparing pre-randomised data for experiment (1)...\n",
      "\n"
     ]
    },
    {
     "data": {
      "image/png": "[encoded data removed]",
      "text/plain": [
       "<Figure size 864x288 with 1 Axes>"
      ]
     },
     "metadata": {
      "needs_background": "light"
     },
     "output_type": "display_data"
    },
    {
     "data": {
      "text/html": [
       "<div>\n",
       "<style scoped>\n",
       "    .dataframe tbody tr th:only-of-type {\n",
       "        vertical-align: middle;\n",
       "    }\n",
       "\n",
       "    .dataframe tbody tr th {\n",
       "        vertical-align: top;\n",
       "    }\n",
       "\n",
       "    .dataframe thead th {\n",
       "        text-align: right;\n",
       "    }\n",
       "</style>\n",
       "<table border=\"1\" class=\"dataframe\">\n",
       "  <thead>\n",
       "    <tr style=\"text-align: right;\">\n",
       "      <th></th>\n",
       "      <th>Mean Cross Validation Accuracy</th>\n",
       "      <th>Standard Deviation</th>\n",
       "      <th>Time Elapsed (sec)</th>\n",
       "    </tr>\n",
       "  </thead>\n",
       "  <tbody>\n",
       "    <tr>\n",
       "      <td>SVM</td>\n",
       "      <td>64.438617</td>\n",
       "      <td>0.986119</td>\n",
       "      <td>2699</td>\n",
       "    </tr>\n",
       "    <tr>\n",
       "      <td>KNN</td>\n",
       "      <td>76.300606</td>\n",
       "      <td>0.552576</td>\n",
       "      <td>2</td>\n",
       "    </tr>\n",
       "    <tr>\n",
       "      <td>Decision Tree</td>\n",
       "      <td>72.704475</td>\n",
       "      <td>0.724829</td>\n",
       "      <td>1</td>\n",
       "    </tr>\n",
       "    <tr>\n",
       "      <td>Random Forest</td>\n",
       "      <td>72.704475</td>\n",
       "      <td>0.724829</td>\n",
       "      <td>215</td>\n",
       "    </tr>\n",
       "  </tbody>\n",
       "</table>\n",
       "</div>"
      ],
      "text/plain": [
       "               Mean Cross Validation Accuracy  Standard Deviation  \\\n",
       "SVM                                 64.438617            0.986119   \n",
       "KNN                                 76.300606            0.552576   \n",
       "Decision Tree                       72.704475            0.724829   \n",
       "Random Forest                       72.704475            0.724829   \n",
       "\n",
       "               Time Elapsed (sec)  \n",
       "SVM                          2699  \n",
       "KNN                             2  \n",
       "Decision Tree                   1  \n",
       "Random Forest                 215  "
      ]
     },
     "execution_count": 8,
     "metadata": {},
     "output_type": "execute_result"
    }
   ],
   "source": [
    "#Experiment 1 - ST\n",
    "feature_combination_cv(experiment_number = 1, folds = 10, modality = 'ST', repeat=True)"
   ]
  },
  {
   "cell_type": "code",
   "execution_count": 9,
   "metadata": {},
   "outputs": [
    {
     "name": "stdout",
     "output_type": "stream",
     "text": [
      "Preparing pre-randomised data for experiment (1)...\n",
      "\n"
     ]
    },
    {
     "data": {
      "image/png": "[encoded data removed]",
      "text/plain": [
       "<Figure size 864x288 with 1 Axes>"
      ]
     },
     "metadata": {
      "needs_background": "light"
     },
     "output_type": "display_data"
    },
    {
     "data": {
      "text/html": [
       "<div>\n",
       "<style scoped>\n",
       "    .dataframe tbody tr th:only-of-type {\n",
       "        vertical-align: middle;\n",
       "    }\n",
       "\n",
       "    .dataframe tbody tr th {\n",
       "        vertical-align: top;\n",
       "    }\n",
       "\n",
       "    .dataframe thead th {\n",
       "        text-align: right;\n",
       "    }\n",
       "</style>\n",
       "<table border=\"1\" class=\"dataframe\">\n",
       "  <thead>\n",
       "    <tr style=\"text-align: right;\">\n",
       "      <th></th>\n",
       "      <th>Mean Cross Validation Accuracy</th>\n",
       "      <th>Standard Deviation</th>\n",
       "      <th>Time Elapsed (sec)</th>\n",
       "    </tr>\n",
       "  </thead>\n",
       "  <tbody>\n",
       "    <tr>\n",
       "      <td>SVM</td>\n",
       "      <td>74.022291</td>\n",
       "      <td>0.398838</td>\n",
       "      <td>2122</td>\n",
       "    </tr>\n",
       "    <tr>\n",
       "      <td>KNN</td>\n",
       "      <td>80.458941</td>\n",
       "      <td>0.447801</td>\n",
       "      <td>3</td>\n",
       "    </tr>\n",
       "    <tr>\n",
       "      <td>Decision Tree</td>\n",
       "      <td>79.947550</td>\n",
       "      <td>0.323802</td>\n",
       "      <td>1</td>\n",
       "    </tr>\n",
       "    <tr>\n",
       "      <td>Random Forest</td>\n",
       "      <td>79.947550</td>\n",
       "      <td>0.323802</td>\n",
       "      <td>279</td>\n",
       "    </tr>\n",
       "  </tbody>\n",
       "</table>\n",
       "</div>"
      ],
      "text/plain": [
       "               Mean Cross Validation Accuracy  Standard Deviation  \\\n",
       "SVM                                 74.022291            0.398838   \n",
       "KNN                                 80.458941            0.447801   \n",
       "Decision Tree                       79.947550            0.323802   \n",
       "Random Forest                       79.947550            0.323802   \n",
       "\n",
       "               Time Elapsed (sec)  \n",
       "SVM                          2122  \n",
       "KNN                             3  \n",
       "Decision Tree                   1  \n",
       "Random Forest                 279  "
      ]
     },
     "execution_count": 9,
     "metadata": {},
     "output_type": "execute_result"
    }
   ],
   "source": [
    "#Experiment 1 - EDA\n",
    "feature_combination_cv(experiment_number = 1, folds = 10, modality = 'EDA', repeat=True)"
   ]
  },
  {
   "cell_type": "code",
   "execution_count": 10,
   "metadata": {
    "scrolled": false
   },
   "outputs": [
    {
     "name": "stdout",
     "output_type": "stream",
     "text": [
      "Preparing pre-randomised data for experiment (1)...\n",
      "\n"
     ]
    },
    {
     "data": {
      "image/png": "[encoded data removed]",
      "text/plain": [
       "<Figure size 864x288 with 1 Axes>"
      ]
     },
     "metadata": {
      "needs_background": "light"
     },
     "output_type": "display_data"
    },
    {
     "data": {
      "text/html": [
       "<div>\n",
       "<style scoped>\n",
       "    .dataframe tbody tr th:only-of-type {\n",
       "        vertical-align: middle;\n",
       "    }\n",
       "\n",
       "    .dataframe tbody tr th {\n",
       "        vertical-align: top;\n",
       "    }\n",
       "\n",
       "    .dataframe thead th {\n",
       "        text-align: right;\n",
       "    }\n",
       "</style>\n",
       "<table border=\"1\" class=\"dataframe\">\n",
       "  <thead>\n",
       "    <tr style=\"text-align: right;\">\n",
       "      <th></th>\n",
       "      <th>Mean Cross Validation Accuracy</th>\n",
       "      <th>Standard Deviation</th>\n",
       "      <th>Time Elapsed (sec)</th>\n",
       "    </tr>\n",
       "  </thead>\n",
       "  <tbody>\n",
       "    <tr>\n",
       "      <td>SVM</td>\n",
       "      <td>82.842157</td>\n",
       "      <td>0.466604</td>\n",
       "      <td>2253</td>\n",
       "    </tr>\n",
       "    <tr>\n",
       "      <td>KNN</td>\n",
       "      <td>94.161613</td>\n",
       "      <td>0.329704</td>\n",
       "      <td>3</td>\n",
       "    </tr>\n",
       "    <tr>\n",
       "      <td>Decision Tree</td>\n",
       "      <td>86.310441</td>\n",
       "      <td>0.457886</td>\n",
       "      <td>1</td>\n",
       "    </tr>\n",
       "    <tr>\n",
       "      <td>Random Forest</td>\n",
       "      <td>89.562367</td>\n",
       "      <td>0.423334</td>\n",
       "      <td>222</td>\n",
       "    </tr>\n",
       "  </tbody>\n",
       "</table>\n",
       "</div>"
      ],
      "text/plain": [
       "               Mean Cross Validation Accuracy  Standard Deviation  \\\n",
       "SVM                                 82.842157            0.466604   \n",
       "KNN                                 94.161613            0.329704   \n",
       "Decision Tree                       86.310441            0.457886   \n",
       "Random Forest                       89.562367            0.423334   \n",
       "\n",
       "               Time Elapsed (sec)  \n",
       "SVM                          2253  \n",
       "KNN                             3  \n",
       "Decision Tree                   1  \n",
       "Random Forest                 222  "
      ]
     },
     "execution_count": 10,
     "metadata": {},
     "output_type": "execute_result"
    }
   ],
   "source": [
    "#Experiment 1 - HR & ST\n",
    "feature_combination_cv(experiment_number = 1, folds = 10, modality = 'HR', modality_2 = 'ST', repeat=True)"
   ]
  },
  {
   "cell_type": "code",
   "execution_count": 11,
   "metadata": {},
   "outputs": [
    {
     "name": "stdout",
     "output_type": "stream",
     "text": [
      "Preparing pre-randomised data for experiment (1)...\n",
      "\n"
     ]
    },
    {
     "data": {
      "image/png": "[encoded data removed]",
      "text/plain": [
       "<Figure size 864x288 with 1 Axes>"
      ]
     },
     "metadata": {
      "needs_background": "light"
     },
     "output_type": "display_data"
    },
    {
     "data": {
      "text/html": [
       "<div>\n",
       "<style scoped>\n",
       "    .dataframe tbody tr th:only-of-type {\n",
       "        vertical-align: middle;\n",
       "    }\n",
       "\n",
       "    .dataframe tbody tr th {\n",
       "        vertical-align: top;\n",
       "    }\n",
       "\n",
       "    .dataframe thead th {\n",
       "        text-align: right;\n",
       "    }\n",
       "</style>\n",
       "<table border=\"1\" class=\"dataframe\">\n",
       "  <thead>\n",
       "    <tr style=\"text-align: right;\">\n",
       "      <th></th>\n",
       "      <th>Mean Cross Validation Accuracy</th>\n",
       "      <th>Standard Deviation</th>\n",
       "      <th>Time Elapsed (sec)</th>\n",
       "    </tr>\n",
       "  </thead>\n",
       "  <tbody>\n",
       "    <tr>\n",
       "      <td>SVM</td>\n",
       "      <td>87.262744</td>\n",
       "      <td>0.511623</td>\n",
       "      <td>2098</td>\n",
       "    </tr>\n",
       "    <tr>\n",
       "      <td>KNN</td>\n",
       "      <td>93.145386</td>\n",
       "      <td>0.433989</td>\n",
       "      <td>3</td>\n",
       "    </tr>\n",
       "    <tr>\n",
       "      <td>Decision Tree</td>\n",
       "      <td>88.131454</td>\n",
       "      <td>0.428984</td>\n",
       "      <td>1</td>\n",
       "    </tr>\n",
       "    <tr>\n",
       "      <td>Random Forest</td>\n",
       "      <td>90.262252</td>\n",
       "      <td>0.466198</td>\n",
       "      <td>218</td>\n",
       "    </tr>\n",
       "  </tbody>\n",
       "</table>\n",
       "</div>"
      ],
      "text/plain": [
       "               Mean Cross Validation Accuracy  Standard Deviation  \\\n",
       "SVM                                 87.262744            0.511623   \n",
       "KNN                                 93.145386            0.433989   \n",
       "Decision Tree                       88.131454            0.428984   \n",
       "Random Forest                       90.262252            0.466198   \n",
       "\n",
       "               Time Elapsed (sec)  \n",
       "SVM                          2098  \n",
       "KNN                             3  \n",
       "Decision Tree                   1  \n",
       "Random Forest                 218  "
      ]
     },
     "execution_count": 11,
     "metadata": {},
     "output_type": "execute_result"
    }
   ],
   "source": [
    "#Experiment 1 - HR & EDA\n",
    "feature_combination_cv(experiment_number = 1, folds = 10, modality = 'HR', modality_2 = 'EDA', repeat=True)"
   ]
  },
  {
   "cell_type": "code",
   "execution_count": 12,
   "metadata": {},
   "outputs": [
    {
     "name": "stdout",
     "output_type": "stream",
     "text": [
      "Preparing pre-randomised data for experiment (1)...\n",
      "\n"
     ]
    },
    {
     "data": {
      "image/png": "[encoded data removed]",
      "text/plain": [
       "<Figure size 864x288 with 1 Axes>"
      ]
     },
     "metadata": {
      "needs_background": "light"
     },
     "output_type": "display_data"
    },
    {
     "data": {
      "text/html": [
       "<div>\n",
       "<style scoped>\n",
       "    .dataframe tbody tr th:only-of-type {\n",
       "        vertical-align: middle;\n",
       "    }\n",
       "\n",
       "    .dataframe tbody tr th {\n",
       "        vertical-align: top;\n",
       "    }\n",
       "\n",
       "    .dataframe thead th {\n",
       "        text-align: right;\n",
       "    }\n",
       "</style>\n",
       "<table border=\"1\" class=\"dataframe\">\n",
       "  <thead>\n",
       "    <tr style=\"text-align: right;\">\n",
       "      <th></th>\n",
       "      <th>Mean Cross Validation Accuracy</th>\n",
       "      <th>Standard Deviation</th>\n",
       "      <th>Time Elapsed (sec)</th>\n",
       "    </tr>\n",
       "  </thead>\n",
       "  <tbody>\n",
       "    <tr>\n",
       "      <td>SVM</td>\n",
       "      <td>94.222259</td>\n",
       "      <td>0.318883</td>\n",
       "      <td>474</td>\n",
       "    </tr>\n",
       "    <tr>\n",
       "      <td>KNN</td>\n",
       "      <td>98.318308</td>\n",
       "      <td>0.125353</td>\n",
       "      <td>3</td>\n",
       "    </tr>\n",
       "    <tr>\n",
       "      <td>Decision Tree</td>\n",
       "      <td>96.990657</td>\n",
       "      <td>0.887230</td>\n",
       "      <td>1</td>\n",
       "    </tr>\n",
       "    <tr>\n",
       "      <td>Random Forest</td>\n",
       "      <td>96.970988</td>\n",
       "      <td>0.220014</td>\n",
       "      <td>176</td>\n",
       "    </tr>\n",
       "  </tbody>\n",
       "</table>\n",
       "</div>"
      ],
      "text/plain": [
       "               Mean Cross Validation Accuracy  Standard Deviation  \\\n",
       "SVM                                 94.222259            0.318883   \n",
       "KNN                                 98.318308            0.125353   \n",
       "Decision Tree                       96.990657            0.887230   \n",
       "Random Forest                       96.970988            0.220014   \n",
       "\n",
       "               Time Elapsed (sec)  \n",
       "SVM                           474  \n",
       "KNN                             3  \n",
       "Decision Tree                   1  \n",
       "Random Forest                 176  "
      ]
     },
     "execution_count": 12,
     "metadata": {},
     "output_type": "execute_result"
    }
   ],
   "source": [
    "#Experiment 1 - ST & EDA\n",
    "feature_combination_cv(experiment_number = 1, folds = 10, modality = 'ST', modality_2 = 'EDA', repeat=True)"
   ]
  },
  {
   "cell_type": "markdown",
   "metadata": {},
   "source": [
    "#### 8.2. Experiment (2)  \n",
    "Classifying between the three states, baseline, anticipation social anxiety and reactive social anxiety, using different modality combinations."
   ]
  },
  {
   "cell_type": "code",
   "execution_count": 13,
   "metadata": {},
   "outputs": [
    {
     "name": "stdout",
     "output_type": "stream",
     "text": [
      "Preparing pre-randomised for experiment (2)... \n",
      "\n"
     ]
    },
    {
     "data": {
      "image/png": "[encoded data removed]",
      "text/plain": [
       "<Figure size 864x288 with 1 Axes>"
      ]
     },
     "metadata": {
      "needs_background": "light"
     },
     "output_type": "display_data"
    },
    {
     "data": {
      "text/html": [
       "<div>\n",
       "<style scoped>\n",
       "    .dataframe tbody tr th:only-of-type {\n",
       "        vertical-align: middle;\n",
       "    }\n",
       "\n",
       "    .dataframe tbody tr th {\n",
       "        vertical-align: top;\n",
       "    }\n",
       "\n",
       "    .dataframe thead th {\n",
       "        text-align: right;\n",
       "    }\n",
       "</style>\n",
       "<table border=\"1\" class=\"dataframe\">\n",
       "  <thead>\n",
       "    <tr style=\"text-align: right;\">\n",
       "      <th></th>\n",
       "      <th>Mean Cross Validation Accuracy</th>\n",
       "      <th>Standard Deviation</th>\n",
       "      <th>Time Elapsed (sec)</th>\n",
       "    </tr>\n",
       "  </thead>\n",
       "  <tbody>\n",
       "    <tr>\n",
       "      <td>SVM</td>\n",
       "      <td>47.094383</td>\n",
       "      <td>0.375088</td>\n",
       "      <td>21317</td>\n",
       "    </tr>\n",
       "    <tr>\n",
       "      <td>KNN</td>\n",
       "      <td>53.910394</td>\n",
       "      <td>0.332028</td>\n",
       "      <td>3</td>\n",
       "    </tr>\n",
       "    <tr>\n",
       "      <td>Decision Tree</td>\n",
       "      <td>52.772196</td>\n",
       "      <td>0.580487</td>\n",
       "      <td>2</td>\n",
       "    </tr>\n",
       "    <tr>\n",
       "      <td>Random Forest</td>\n",
       "      <td>52.772196</td>\n",
       "      <td>0.580487</td>\n",
       "      <td>826</td>\n",
       "    </tr>\n",
       "  </tbody>\n",
       "</table>\n",
       "</div>"
      ],
      "text/plain": [
       "               Mean Cross Validation Accuracy  Standard Deviation  \\\n",
       "SVM                                 47.094383            0.375088   \n",
       "KNN                                 53.910394            0.332028   \n",
       "Decision Tree                       52.772196            0.580487   \n",
       "Random Forest                       52.772196            0.580487   \n",
       "\n",
       "               Time Elapsed (sec)  \n",
       "SVM                         21317  \n",
       "KNN                             3  \n",
       "Decision Tree                   2  \n",
       "Random Forest                 826  "
      ]
     },
     "execution_count": 13,
     "metadata": {},
     "output_type": "execute_result"
    }
   ],
   "source": [
    "#Experiment 2 - HR\n",
    "feature_combination_cv(experiment_number = 2, folds = 10, modality = 'HR', repeat=True)"
   ]
  },
  {
   "cell_type": "code",
   "execution_count": 14,
   "metadata": {},
   "outputs": [
    {
     "name": "stdout",
     "output_type": "stream",
     "text": [
      "Preparing pre-randomised for experiment (2)... \n",
      "\n"
     ]
    },
    {
     "data": {
      "image/png": "[encoded data removed]",
      "text/plain": [
       "<Figure size 864x288 with 1 Axes>"
      ]
     },
     "metadata": {
      "needs_background": "light"
     },
     "output_type": "display_data"
    },
    {
     "data": {
      "text/html": [
       "<div>\n",
       "<style scoped>\n",
       "    .dataframe tbody tr th:only-of-type {\n",
       "        vertical-align: middle;\n",
       "    }\n",
       "\n",
       "    .dataframe tbody tr th {\n",
       "        vertical-align: top;\n",
       "    }\n",
       "\n",
       "    .dataframe thead th {\n",
       "        text-align: right;\n",
       "    }\n",
       "</style>\n",
       "<table border=\"1\" class=\"dataframe\">\n",
       "  <thead>\n",
       "    <tr style=\"text-align: right;\">\n",
       "      <th></th>\n",
       "      <th>Mean Cross Validation Accuracy</th>\n",
       "      <th>Standard Deviation</th>\n",
       "      <th>Time Elapsed (sec)</th>\n",
       "    </tr>\n",
       "  </thead>\n",
       "  <tbody>\n",
       "    <tr>\n",
       "      <td>SVM</td>\n",
       "      <td>53.986164</td>\n",
       "      <td>0.746366</td>\n",
       "      <td>9805</td>\n",
       "    </tr>\n",
       "    <tr>\n",
       "      <td>KNN</td>\n",
       "      <td>68.319881</td>\n",
       "      <td>0.521059</td>\n",
       "      <td>3</td>\n",
       "    </tr>\n",
       "    <tr>\n",
       "      <td>Decision Tree</td>\n",
       "      <td>65.338494</td>\n",
       "      <td>0.573131</td>\n",
       "      <td>2</td>\n",
       "    </tr>\n",
       "    <tr>\n",
       "      <td>Random Forest</td>\n",
       "      <td>65.338494</td>\n",
       "      <td>0.573131</td>\n",
       "      <td>631</td>\n",
       "    </tr>\n",
       "  </tbody>\n",
       "</table>\n",
       "</div>"
      ],
      "text/plain": [
       "               Mean Cross Validation Accuracy  Standard Deviation  \\\n",
       "SVM                                 53.986164            0.746366   \n",
       "KNN                                 68.319881            0.521059   \n",
       "Decision Tree                       65.338494            0.573131   \n",
       "Random Forest                       65.338494            0.573131   \n",
       "\n",
       "               Time Elapsed (sec)  \n",
       "SVM                          9805  \n",
       "KNN                             3  \n",
       "Decision Tree                   2  \n",
       "Random Forest                 631  "
      ]
     },
     "execution_count": 14,
     "metadata": {},
     "output_type": "execute_result"
    }
   ],
   "source": [
    "#Experiment 2 - ST\n",
    "feature_combination_cv(experiment_number = 2, folds = 10, modality = 'ST', repeat=True)"
   ]
  },
  {
   "cell_type": "code",
   "execution_count": 15,
   "metadata": {},
   "outputs": [
    {
     "name": "stdout",
     "output_type": "stream",
     "text": [
      "Preparing pre-randomised for experiment (2)... \n",
      "\n"
     ]
    },
    {
     "data": {
      "image/png": "[encoded data removed]",
      "text/plain": [
       "<Figure size 864x288 with 1 Axes>"
      ]
     },
     "metadata": {
      "needs_background": "light"
     },
     "output_type": "display_data"
    },
    {
     "data": {
      "text/html": [
       "<div>\n",
       "<style scoped>\n",
       "    .dataframe tbody tr th:only-of-type {\n",
       "        vertical-align: middle;\n",
       "    }\n",
       "\n",
       "    .dataframe tbody tr th {\n",
       "        vertical-align: top;\n",
       "    }\n",
       "\n",
       "    .dataframe thead th {\n",
       "        text-align: right;\n",
       "    }\n",
       "</style>\n",
       "<table border=\"1\" class=\"dataframe\">\n",
       "  <thead>\n",
       "    <tr style=\"text-align: right;\">\n",
       "      <th></th>\n",
       "      <th>Mean Cross Validation Accuracy</th>\n",
       "      <th>Standard Deviation</th>\n",
       "      <th>Time Elapsed (sec)</th>\n",
       "    </tr>\n",
       "  </thead>\n",
       "  <tbody>\n",
       "    <tr>\n",
       "      <td>SVM</td>\n",
       "      <td>62.307692</td>\n",
       "      <td>0.598753</td>\n",
       "      <td>9149</td>\n",
       "    </tr>\n",
       "    <tr>\n",
       "      <td>KNN</td>\n",
       "      <td>70.018119</td>\n",
       "      <td>0.497848</td>\n",
       "      <td>3</td>\n",
       "    </tr>\n",
       "    <tr>\n",
       "      <td>Decision Tree</td>\n",
       "      <td>69.838577</td>\n",
       "      <td>0.634796</td>\n",
       "      <td>2</td>\n",
       "    </tr>\n",
       "    <tr>\n",
       "      <td>Random Forest</td>\n",
       "      <td>69.838577</td>\n",
       "      <td>0.634796</td>\n",
       "      <td>730</td>\n",
       "    </tr>\n",
       "  </tbody>\n",
       "</table>\n",
       "</div>"
      ],
      "text/plain": [
       "               Mean Cross Validation Accuracy  Standard Deviation  \\\n",
       "SVM                                 62.307692            0.598753   \n",
       "KNN                                 70.018119            0.497848   \n",
       "Decision Tree                       69.838577            0.634796   \n",
       "Random Forest                       69.838577            0.634796   \n",
       "\n",
       "               Time Elapsed (sec)  \n",
       "SVM                          9149  \n",
       "KNN                             3  \n",
       "Decision Tree                   2  \n",
       "Random Forest                 730  "
      ]
     },
     "execution_count": 15,
     "metadata": {},
     "output_type": "execute_result"
    }
   ],
   "source": [
    "#Experiment 2 - EDA\n",
    "feature_combination_cv(experiment_number = 2, folds = 10, modality = 'EDA', repeat=True)"
   ]
  },
  {
   "cell_type": "code",
   "execution_count": 16,
   "metadata": {},
   "outputs": [
    {
     "name": "stdout",
     "output_type": "stream",
     "text": [
      "Preparing pre-randomised for experiment (2)... \n",
      "\n"
     ]
    },
    {
     "data": {
      "image/png": "[encoded data removed]",
      "text/plain": [
       "<Figure size 864x288 with 1 Axes>"
      ]
     },
     "metadata": {
      "needs_background": "light"
     },
     "output_type": "display_data"
    },
    {
     "data": {
      "text/html": [
       "<div>\n",
       "<style scoped>\n",
       "    .dataframe tbody tr th:only-of-type {\n",
       "        vertical-align: middle;\n",
       "    }\n",
       "\n",
       "    .dataframe tbody tr th {\n",
       "        vertical-align: top;\n",
       "    }\n",
       "\n",
       "    .dataframe thead th {\n",
       "        text-align: right;\n",
       "    }\n",
       "</style>\n",
       "<table border=\"1\" class=\"dataframe\">\n",
       "  <thead>\n",
       "    <tr style=\"text-align: right;\">\n",
       "      <th></th>\n",
       "      <th>Mean Cross Validation Accuracy</th>\n",
       "      <th>Standard Deviation</th>\n",
       "      <th>Time Elapsed (sec)</th>\n",
       "    </tr>\n",
       "  </thead>\n",
       "  <tbody>\n",
       "    <tr>\n",
       "      <td>SVM</td>\n",
       "      <td>73.368473</td>\n",
       "      <td>0.287698</td>\n",
       "      <td>7472</td>\n",
       "    </tr>\n",
       "    <tr>\n",
       "      <td>KNN</td>\n",
       "      <td>89.836930</td>\n",
       "      <td>0.283071</td>\n",
       "      <td>3</td>\n",
       "    </tr>\n",
       "    <tr>\n",
       "      <td>Decision Tree</td>\n",
       "      <td>80.840059</td>\n",
       "      <td>0.783204</td>\n",
       "      <td>3</td>\n",
       "    </tr>\n",
       "    <tr>\n",
       "      <td>Random Forest</td>\n",
       "      <td>82.953385</td>\n",
       "      <td>0.359493</td>\n",
       "      <td>615</td>\n",
       "    </tr>\n",
       "  </tbody>\n",
       "</table>\n",
       "</div>"
      ],
      "text/plain": [
       "               Mean Cross Validation Accuracy  Standard Deviation  \\\n",
       "SVM                                 73.368473            0.287698   \n",
       "KNN                                 89.836930            0.283071   \n",
       "Decision Tree                       80.840059            0.783204   \n",
       "Random Forest                       82.953385            0.359493   \n",
       "\n",
       "               Time Elapsed (sec)  \n",
       "SVM                          7472  \n",
       "KNN                             3  \n",
       "Decision Tree                   3  \n",
       "Random Forest                 615  "
      ]
     },
     "execution_count": 16,
     "metadata": {},
     "output_type": "execute_result"
    }
   ],
   "source": [
    "#Experiment 2 - HR & ST\n",
    "feature_combination_cv(experiment_number = 2, folds = 10, modality = 'HR', modality_2 = 'ST', repeat=True)"
   ]
  },
  {
   "cell_type": "code",
   "execution_count": 17,
   "metadata": {},
   "outputs": [
    {
     "name": "stdout",
     "output_type": "stream",
     "text": [
      "Preparing pre-randomised for experiment (2)... \n",
      "\n"
     ]
    },
    {
     "data": {
      "image/png": "[encoded data removed]",
      "text/plain": [
       "<Figure size 864x288 with 1 Axes>"
      ]
     },
     "metadata": {
      "needs_background": "light"
     },
     "output_type": "display_data"
    },
    {
     "data": {
      "text/html": [
       "<div>\n",
       "<style scoped>\n",
       "    .dataframe tbody tr th:only-of-type {\n",
       "        vertical-align: middle;\n",
       "    }\n",
       "\n",
       "    .dataframe tbody tr th {\n",
       "        vertical-align: top;\n",
       "    }\n",
       "\n",
       "    .dataframe thead th {\n",
       "        text-align: right;\n",
       "    }\n",
       "</style>\n",
       "<table border=\"1\" class=\"dataframe\">\n",
       "  <thead>\n",
       "    <tr style=\"text-align: right;\">\n",
       "      <th></th>\n",
       "      <th>Mean Cross Validation Accuracy</th>\n",
       "      <th>Standard Deviation</th>\n",
       "      <th>Time Elapsed (sec)</th>\n",
       "    </tr>\n",
       "  </thead>\n",
       "  <tbody>\n",
       "    <tr>\n",
       "      <td>SVM</td>\n",
       "      <td>77.939384</td>\n",
       "      <td>0.487955</td>\n",
       "      <td>7726</td>\n",
       "    </tr>\n",
       "    <tr>\n",
       "      <td>KNN</td>\n",
       "      <td>88.397299</td>\n",
       "      <td>0.348659</td>\n",
       "      <td>3</td>\n",
       "    </tr>\n",
       "    <tr>\n",
       "      <td>Decision Tree</td>\n",
       "      <td>85.588865</td>\n",
       "      <td>0.399453</td>\n",
       "      <td>3</td>\n",
       "    </tr>\n",
       "    <tr>\n",
       "      <td>Random Forest</td>\n",
       "      <td>84.862461</td>\n",
       "      <td>0.374649</td>\n",
       "      <td>671</td>\n",
       "    </tr>\n",
       "  </tbody>\n",
       "</table>\n",
       "</div>"
      ],
      "text/plain": [
       "               Mean Cross Validation Accuracy  Standard Deviation  \\\n",
       "SVM                                 77.939384            0.487955   \n",
       "KNN                                 88.397299            0.348659   \n",
       "Decision Tree                       85.588865            0.399453   \n",
       "Random Forest                       84.862461            0.374649   \n",
       "\n",
       "               Time Elapsed (sec)  \n",
       "SVM                          7726  \n",
       "KNN                             3  \n",
       "Decision Tree                   3  \n",
       "Random Forest                 671  "
      ]
     },
     "execution_count": 17,
     "metadata": {},
     "output_type": "execute_result"
    }
   ],
   "source": [
    "#Experiment 2 - HR & EDA\n",
    "feature_combination_cv(experiment_number = 2, folds = 10, modality = 'HR', modality_2 = 'EDA', repeat=True)"
   ]
  },
  {
   "cell_type": "code",
   "execution_count": 18,
   "metadata": {},
   "outputs": [
    {
     "name": "stdout",
     "output_type": "stream",
     "text": [
      "Preparing pre-randomised for experiment (2)... \n",
      "\n"
     ]
    },
    {
     "data": {
      "image/png": "[encoded data removed]",
      "text/plain": [
       "<Figure size 864x288 with 1 Axes>"
      ]
     },
     "metadata": {
      "needs_background": "light"
     },
     "output_type": "display_data"
    },
    {
     "data": {
      "text/html": [
       "<div>\n",
       "<style scoped>\n",
       "    .dataframe tbody tr th:only-of-type {\n",
       "        vertical-align: middle;\n",
       "    }\n",
       "\n",
       "    .dataframe tbody tr th {\n",
       "        vertical-align: top;\n",
       "    }\n",
       "\n",
       "    .dataframe thead th {\n",
       "        text-align: right;\n",
       "    }\n",
       "</style>\n",
       "<table border=\"1\" class=\"dataframe\">\n",
       "  <thead>\n",
       "    <tr style=\"text-align: right;\">\n",
       "      <th></th>\n",
       "      <th>Mean Cross Validation Accuracy</th>\n",
       "      <th>Standard Deviation</th>\n",
       "      <th>Time Elapsed (sec)</th>\n",
       "    </tr>\n",
       "  </thead>\n",
       "  <tbody>\n",
       "    <tr>\n",
       "      <td>SVM</td>\n",
       "      <td>88.759677</td>\n",
       "      <td>0.301252</td>\n",
       "      <td>2283</td>\n",
       "    </tr>\n",
       "    <tr>\n",
       "      <td>KNN</td>\n",
       "      <td>96.000659</td>\n",
       "      <td>0.213046</td>\n",
       "      <td>3</td>\n",
       "    </tr>\n",
       "    <tr>\n",
       "      <td>Decision Tree</td>\n",
       "      <td>94.524790</td>\n",
       "      <td>0.354659</td>\n",
       "      <td>2</td>\n",
       "    </tr>\n",
       "    <tr>\n",
       "      <td>Random Forest</td>\n",
       "      <td>93.511777</td>\n",
       "      <td>0.346425</td>\n",
       "      <td>545</td>\n",
       "    </tr>\n",
       "  </tbody>\n",
       "</table>\n",
       "</div>"
      ],
      "text/plain": [
       "               Mean Cross Validation Accuracy  Standard Deviation  \\\n",
       "SVM                                 88.759677            0.301252   \n",
       "KNN                                 96.000659            0.213046   \n",
       "Decision Tree                       94.524790            0.354659   \n",
       "Random Forest                       93.511777            0.346425   \n",
       "\n",
       "               Time Elapsed (sec)  \n",
       "SVM                          2283  \n",
       "KNN                             3  \n",
       "Decision Tree                   2  \n",
       "Random Forest                 545  "
      ]
     },
     "execution_count": 18,
     "metadata": {},
     "output_type": "execute_result"
    }
   ],
   "source": [
    "#Experiment 2 - ST & EDA\n",
    "feature_combination_cv(experiment_number = 2, folds = 10, modality = 'ST', modality_2 = 'EDA', repeat=True)"
   ]
  },
  {
   "cell_type": "markdown",
   "metadata": {},
   "source": [
    "#### 8.3. Experiment (3)  \n",
    "Classifying between marked and moderate social anxiety, using different modality combinations."
   ]
  },
  {
   "cell_type": "code",
   "execution_count": 19,
   "metadata": {},
   "outputs": [
    {
     "name": "stdout",
     "output_type": "stream",
     "text": [
      "Preparing pre-randomised data for experiment (3)...\n",
      "\n"
     ]
    },
    {
     "data": {
      "image/png": "[encoded data removed]",
      "text/plain": [
       "<Figure size 864x288 with 1 Axes>"
      ]
     },
     "metadata": {
      "needs_background": "light"
     },
     "output_type": "display_data"
    },
    {
     "data": {
      "text/html": [
       "<div>\n",
       "<style scoped>\n",
       "    .dataframe tbody tr th:only-of-type {\n",
       "        vertical-align: middle;\n",
       "    }\n",
       "\n",
       "    .dataframe tbody tr th {\n",
       "        vertical-align: top;\n",
       "    }\n",
       "\n",
       "    .dataframe thead th {\n",
       "        text-align: right;\n",
       "    }\n",
       "</style>\n",
       "<table border=\"1\" class=\"dataframe\">\n",
       "  <thead>\n",
       "    <tr style=\"text-align: right;\">\n",
       "      <th></th>\n",
       "      <th>Mean Cross Validation Accuracy</th>\n",
       "      <th>Standard Deviation</th>\n",
       "      <th>Time Elapsed (sec)</th>\n",
       "    </tr>\n",
       "  </thead>\n",
       "  <tbody>\n",
       "    <tr>\n",
       "      <td>SVM</td>\n",
       "      <td>67.365</td>\n",
       "      <td>1.268431</td>\n",
       "      <td>230</td>\n",
       "    </tr>\n",
       "    <tr>\n",
       "      <td>KNN</td>\n",
       "      <td>72.000</td>\n",
       "      <td>1.097978</td>\n",
       "      <td>1</td>\n",
       "    </tr>\n",
       "    <tr>\n",
       "      <td>Decision Tree</td>\n",
       "      <td>71.250</td>\n",
       "      <td>1.114550</td>\n",
       "      <td>0</td>\n",
       "    </tr>\n",
       "    <tr>\n",
       "      <td>Random Forest</td>\n",
       "      <td>71.250</td>\n",
       "      <td>1.114550</td>\n",
       "      <td>75</td>\n",
       "    </tr>\n",
       "  </tbody>\n",
       "</table>\n",
       "</div>"
      ],
      "text/plain": [
       "               Mean Cross Validation Accuracy  Standard Deviation  \\\n",
       "SVM                                    67.365            1.268431   \n",
       "KNN                                    72.000            1.097978   \n",
       "Decision Tree                          71.250            1.114550   \n",
       "Random Forest                          71.250            1.114550   \n",
       "\n",
       "               Time Elapsed (sec)  \n",
       "SVM                           230  \n",
       "KNN                             1  \n",
       "Decision Tree                   0  \n",
       "Random Forest                  75  "
      ]
     },
     "execution_count": 19,
     "metadata": {},
     "output_type": "execute_result"
    }
   ],
   "source": [
    "#Experiment 3 - HR\n",
    "feature_combination_cv(experiment_number = 3, folds = 10, modality = 'HR', repeat=True)"
   ]
  },
  {
   "cell_type": "code",
   "execution_count": 20,
   "metadata": {
    "scrolled": false
   },
   "outputs": [
    {
     "name": "stdout",
     "output_type": "stream",
     "text": [
      "Preparing pre-randomised data for experiment (3)...\n",
      "\n"
     ]
    },
    {
     "data": {
      "image/png": "[encoded data removed]",
      "text/plain": [
       "<Figure size 864x288 with 1 Axes>"
      ]
     },
     "metadata": {
      "needs_background": "light"
     },
     "output_type": "display_data"
    },
    {
     "data": {
      "text/html": [
       "<div>\n",
       "<style scoped>\n",
       "    .dataframe tbody tr th:only-of-type {\n",
       "        vertical-align: middle;\n",
       "    }\n",
       "\n",
       "    .dataframe tbody tr th {\n",
       "        vertical-align: top;\n",
       "    }\n",
       "\n",
       "    .dataframe thead th {\n",
       "        text-align: right;\n",
       "    }\n",
       "</style>\n",
       "<table border=\"1\" class=\"dataframe\">\n",
       "  <thead>\n",
       "    <tr style=\"text-align: right;\">\n",
       "      <th></th>\n",
       "      <th>Mean Cross Validation Accuracy</th>\n",
       "      <th>Standard Deviation</th>\n",
       "      <th>Time Elapsed (sec)</th>\n",
       "    </tr>\n",
       "  </thead>\n",
       "  <tbody>\n",
       "    <tr>\n",
       "      <td>SVM</td>\n",
       "      <td>84.980</td>\n",
       "      <td>0.802150</td>\n",
       "      <td>121</td>\n",
       "    </tr>\n",
       "    <tr>\n",
       "      <td>KNN</td>\n",
       "      <td>89.635</td>\n",
       "      <td>0.701209</td>\n",
       "      <td>1</td>\n",
       "    </tr>\n",
       "    <tr>\n",
       "      <td>Decision Tree</td>\n",
       "      <td>89.470</td>\n",
       "      <td>0.767101</td>\n",
       "      <td>0</td>\n",
       "    </tr>\n",
       "    <tr>\n",
       "      <td>Random Forest</td>\n",
       "      <td>89.470</td>\n",
       "      <td>0.767101</td>\n",
       "      <td>51</td>\n",
       "    </tr>\n",
       "  </tbody>\n",
       "</table>\n",
       "</div>"
      ],
      "text/plain": [
       "               Mean Cross Validation Accuracy  Standard Deviation  \\\n",
       "SVM                                    84.980            0.802150   \n",
       "KNN                                    89.635            0.701209   \n",
       "Decision Tree                          89.470            0.767101   \n",
       "Random Forest                          89.470            0.767101   \n",
       "\n",
       "               Time Elapsed (sec)  \n",
       "SVM                           121  \n",
       "KNN                             1  \n",
       "Decision Tree                   0  \n",
       "Random Forest                  51  "
      ]
     },
     "execution_count": 20,
     "metadata": {},
     "output_type": "execute_result"
    }
   ],
   "source": [
    "#Experiment 3 - ST\n",
    "feature_combination_cv(experiment_number = 3, folds = 10, modality = 'ST', repeat=True)"
   ]
  },
  {
   "cell_type": "code",
   "execution_count": 21,
   "metadata": {},
   "outputs": [
    {
     "name": "stdout",
     "output_type": "stream",
     "text": [
      "Preparing pre-randomised data for experiment (3)...\n",
      "\n"
     ]
    },
    {
     "data": {
      "image/png": "[encoded data removed]",
      "text/plain": [
       "<Figure size 864x288 with 1 Axes>"
      ]
     },
     "metadata": {
      "needs_background": "light"
     },
     "output_type": "display_data"
    },
    {
     "data": {
      "text/html": [
       "<div>\n",
       "<style scoped>\n",
       "    .dataframe tbody tr th:only-of-type {\n",
       "        vertical-align: middle;\n",
       "    }\n",
       "\n",
       "    .dataframe tbody tr th {\n",
       "        vertical-align: top;\n",
       "    }\n",
       "\n",
       "    .dataframe thead th {\n",
       "        text-align: right;\n",
       "    }\n",
       "</style>\n",
       "<table border=\"1\" class=\"dataframe\">\n",
       "  <thead>\n",
       "    <tr style=\"text-align: right;\">\n",
       "      <th></th>\n",
       "      <th>Mean Cross Validation Accuracy</th>\n",
       "      <th>Standard Deviation</th>\n",
       "      <th>Time Elapsed (sec)</th>\n",
       "    </tr>\n",
       "  </thead>\n",
       "  <tbody>\n",
       "    <tr>\n",
       "      <td>SVM</td>\n",
       "      <td>71.030</td>\n",
       "      <td>1.252376</td>\n",
       "      <td>474</td>\n",
       "    </tr>\n",
       "    <tr>\n",
       "      <td>KNN</td>\n",
       "      <td>74.535</td>\n",
       "      <td>1.511998</td>\n",
       "      <td>1</td>\n",
       "    </tr>\n",
       "    <tr>\n",
       "      <td>Decision Tree</td>\n",
       "      <td>75.565</td>\n",
       "      <td>1.619679</td>\n",
       "      <td>0</td>\n",
       "    </tr>\n",
       "    <tr>\n",
       "      <td>Random Forest</td>\n",
       "      <td>75.565</td>\n",
       "      <td>1.619679</td>\n",
       "      <td>77</td>\n",
       "    </tr>\n",
       "  </tbody>\n",
       "</table>\n",
       "</div>"
      ],
      "text/plain": [
       "               Mean Cross Validation Accuracy  Standard Deviation  \\\n",
       "SVM                                    71.030            1.252376   \n",
       "KNN                                    74.535            1.511998   \n",
       "Decision Tree                          75.565            1.619679   \n",
       "Random Forest                          75.565            1.619679   \n",
       "\n",
       "               Time Elapsed (sec)  \n",
       "SVM                           474  \n",
       "KNN                             1  \n",
       "Decision Tree                   0  \n",
       "Random Forest                  77  "
      ]
     },
     "execution_count": 21,
     "metadata": {},
     "output_type": "execute_result"
    }
   ],
   "source": [
    "#Experiment 3 - EDA\n",
    "feature_combination_cv(experiment_number = 3, folds = 10, modality = 'EDA', repeat=True)"
   ]
  },
  {
   "cell_type": "code",
   "execution_count": 22,
   "metadata": {},
   "outputs": [
    {
     "name": "stdout",
     "output_type": "stream",
     "text": [
      "Preparing pre-randomised data for experiment (3)...\n",
      "\n"
     ]
    },
    {
     "data": {
      "image/png": "[encoded data removed]",
      "text/plain": [
       "<Figure size 864x288 with 1 Axes>"
      ]
     },
     "metadata": {
      "needs_background": "light"
     },
     "output_type": "display_data"
    },
    {
     "data": {
      "text/html": [
       "<div>\n",
       "<style scoped>\n",
       "    .dataframe tbody tr th:only-of-type {\n",
       "        vertical-align: middle;\n",
       "    }\n",
       "\n",
       "    .dataframe tbody tr th {\n",
       "        vertical-align: top;\n",
       "    }\n",
       "\n",
       "    .dataframe thead th {\n",
       "        text-align: right;\n",
       "    }\n",
       "</style>\n",
       "<table border=\"1\" class=\"dataframe\">\n",
       "  <thead>\n",
       "    <tr style=\"text-align: right;\">\n",
       "      <th></th>\n",
       "      <th>Mean Cross Validation Accuracy</th>\n",
       "      <th>Standard Deviation</th>\n",
       "      <th>Time Elapsed (sec)</th>\n",
       "    </tr>\n",
       "  </thead>\n",
       "  <tbody>\n",
       "    <tr>\n",
       "      <td>SVM</td>\n",
       "      <td>96.490</td>\n",
       "      <td>0.352609</td>\n",
       "      <td>66</td>\n",
       "    </tr>\n",
       "    <tr>\n",
       "      <td>KNN</td>\n",
       "      <td>97.140</td>\n",
       "      <td>0.437035</td>\n",
       "      <td>1</td>\n",
       "    </tr>\n",
       "    <tr>\n",
       "      <td>Decision Tree</td>\n",
       "      <td>96.630</td>\n",
       "      <td>0.460796</td>\n",
       "      <td>0</td>\n",
       "    </tr>\n",
       "    <tr>\n",
       "      <td>Random Forest</td>\n",
       "      <td>97.055</td>\n",
       "      <td>0.415966</td>\n",
       "      <td>52</td>\n",
       "    </tr>\n",
       "  </tbody>\n",
       "</table>\n",
       "</div>"
      ],
      "text/plain": [
       "               Mean Cross Validation Accuracy  Standard Deviation  \\\n",
       "SVM                                    96.490            0.352609   \n",
       "KNN                                    97.140            0.437035   \n",
       "Decision Tree                          96.630            0.460796   \n",
       "Random Forest                          97.055            0.415966   \n",
       "\n",
       "               Time Elapsed (sec)  \n",
       "SVM                            66  \n",
       "KNN                             1  \n",
       "Decision Tree                   0  \n",
       "Random Forest                  52  "
      ]
     },
     "execution_count": 22,
     "metadata": {},
     "output_type": "execute_result"
    }
   ],
   "source": [
    "#Experiment 3 - HR & ST\n",
    "feature_combination_cv(experiment_number = 3, folds = 10, modality = 'HR', modality_2 = 'ST', repeat=True)"
   ]
  },
  {
   "cell_type": "code",
   "execution_count": 23,
   "metadata": {},
   "outputs": [
    {
     "name": "stdout",
     "output_type": "stream",
     "text": [
      "Preparing pre-randomised data for experiment (3)...\n",
      "\n"
     ]
    },
    {
     "data": {
      "image/png": "[encoded data removed]",
      "text/plain": [
       "<Figure size 864x288 with 1 Axes>"
      ]
     },
     "metadata": {
      "needs_background": "light"
     },
     "output_type": "display_data"
    },
    {
     "data": {
      "text/html": [
       "<div>\n",
       "<style scoped>\n",
       "    .dataframe tbody tr th:only-of-type {\n",
       "        vertical-align: middle;\n",
       "    }\n",
       "\n",
       "    .dataframe tbody tr th {\n",
       "        vertical-align: top;\n",
       "    }\n",
       "\n",
       "    .dataframe thead th {\n",
       "        text-align: right;\n",
       "    }\n",
       "</style>\n",
       "<table border=\"1\" class=\"dataframe\">\n",
       "  <thead>\n",
       "    <tr style=\"text-align: right;\">\n",
       "      <th></th>\n",
       "      <th>Mean Cross Validation Accuracy</th>\n",
       "      <th>Standard Deviation</th>\n",
       "      <th>Time Elapsed (sec)</th>\n",
       "    </tr>\n",
       "  </thead>\n",
       "  <tbody>\n",
       "    <tr>\n",
       "      <td>SVM</td>\n",
       "      <td>89.130</td>\n",
       "      <td>0.435380</td>\n",
       "      <td>158</td>\n",
       "    </tr>\n",
       "    <tr>\n",
       "      <td>KNN</td>\n",
       "      <td>92.365</td>\n",
       "      <td>0.607842</td>\n",
       "      <td>1</td>\n",
       "    </tr>\n",
       "    <tr>\n",
       "      <td>Decision Tree</td>\n",
       "      <td>88.855</td>\n",
       "      <td>0.771524</td>\n",
       "      <td>0</td>\n",
       "    </tr>\n",
       "    <tr>\n",
       "      <td>Random Forest</td>\n",
       "      <td>91.250</td>\n",
       "      <td>0.420317</td>\n",
       "      <td>64</td>\n",
       "    </tr>\n",
       "  </tbody>\n",
       "</table>\n",
       "</div>"
      ],
      "text/plain": [
       "               Mean Cross Validation Accuracy  Standard Deviation  \\\n",
       "SVM                                    89.130            0.435380   \n",
       "KNN                                    92.365            0.607842   \n",
       "Decision Tree                          88.855            0.771524   \n",
       "Random Forest                          91.250            0.420317   \n",
       "\n",
       "               Time Elapsed (sec)  \n",
       "SVM                           158  \n",
       "KNN                             1  \n",
       "Decision Tree                   0  \n",
       "Random Forest                  64  "
      ]
     },
     "execution_count": 23,
     "metadata": {},
     "output_type": "execute_result"
    }
   ],
   "source": [
    "#Experiment 3 - HR & EDA\n",
    "feature_combination_cv(experiment_number = 3, folds = 10, modality = 'HR', modality_2 = 'EDA', repeat=True)"
   ]
  },
  {
   "cell_type": "code",
   "execution_count": 24,
   "metadata": {},
   "outputs": [
    {
     "name": "stdout",
     "output_type": "stream",
     "text": [
      "Preparing pre-randomised data for experiment (3)...\n",
      "\n"
     ]
    },
    {
     "data": {
      "image/png": "[encoded data removed]",
      "text/plain": [
       "<Figure size 864x288 with 1 Axes>"
      ]
     },
     "metadata": {
      "needs_background": "light"
     },
     "output_type": "display_data"
    },
    {
     "data": {
      "text/html": [
       "<div>\n",
       "<style scoped>\n",
       "    .dataframe tbody tr th:only-of-type {\n",
       "        vertical-align: middle;\n",
       "    }\n",
       "\n",
       "    .dataframe tbody tr th {\n",
       "        vertical-align: top;\n",
       "    }\n",
       "\n",
       "    .dataframe thead th {\n",
       "        text-align: right;\n",
       "    }\n",
       "</style>\n",
       "<table border=\"1\" class=\"dataframe\">\n",
       "  <thead>\n",
       "    <tr style=\"text-align: right;\">\n",
       "      <th></th>\n",
       "      <th>Mean Cross Validation Accuracy</th>\n",
       "      <th>Standard Deviation</th>\n",
       "      <th>Time Elapsed (sec)</th>\n",
       "    </tr>\n",
       "  </thead>\n",
       "  <tbody>\n",
       "    <tr>\n",
       "      <td>SVM</td>\n",
       "      <td>96.835</td>\n",
       "      <td>0.205548</td>\n",
       "      <td>33</td>\n",
       "    </tr>\n",
       "    <tr>\n",
       "      <td>KNN</td>\n",
       "      <td>97.745</td>\n",
       "      <td>0.284263</td>\n",
       "      <td>1</td>\n",
       "    </tr>\n",
       "    <tr>\n",
       "      <td>Decision Tree</td>\n",
       "      <td>97.225</td>\n",
       "      <td>0.239502</td>\n",
       "      <td>0</td>\n",
       "    </tr>\n",
       "    <tr>\n",
       "      <td>Random Forest</td>\n",
       "      <td>98.105</td>\n",
       "      <td>0.436813</td>\n",
       "      <td>51</td>\n",
       "    </tr>\n",
       "  </tbody>\n",
       "</table>\n",
       "</div>"
      ],
      "text/plain": [
       "               Mean Cross Validation Accuracy  Standard Deviation  \\\n",
       "SVM                                    96.835            0.205548   \n",
       "KNN                                    97.745            0.284263   \n",
       "Decision Tree                          97.225            0.239502   \n",
       "Random Forest                          98.105            0.436813   \n",
       "\n",
       "               Time Elapsed (sec)  \n",
       "SVM                            33  \n",
       "KNN                             1  \n",
       "Decision Tree                   0  \n",
       "Random Forest                  51  "
      ]
     },
     "execution_count": 24,
     "metadata": {},
     "output_type": "execute_result"
    }
   ],
   "source": [
    "#Experiment 3 - ST & EDA\n",
    "feature_combination_cv(experiment_number = 3, folds = 10, modality = 'ST', modality_2 = 'EDA', repeat=True)"
   ]
  }
 ],
 "metadata": {
  "kernelspec": {
   "display_name": "Python 3",
   "language": "python",
   "name": "python3"
  },
  "language_info": {
   "codemirror_mode": {
    "name": "ipython",
    "version": 3
   },
   "file_extension": ".py",
   "mimetype": "text/x-python",
   "name": "python",
   "nbconvert_exporter": "python",
   "pygments_lexer": "ipython3",
   "version": "3.7.4"
  }
 },
 "nbformat": 4,
 "nbformat_minor": 2
}
